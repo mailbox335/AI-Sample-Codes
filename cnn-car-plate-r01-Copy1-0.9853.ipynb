{
 "cells": [
  {
   "cell_type": "code",
   "execution_count": 1,
   "metadata": {},
   "outputs": [
    {
     "name": "stdout",
     "output_type": "stream",
     "text": [
      "[PhysicalDevice(name='/physical_device:GPU:0', device_type='GPU')]\n"
     ]
    }
   ],
   "source": [
    "import numpy as np\n",
    "import pandas as pd\n",
    "import matplotlib.pyplot as plt\n",
    "from tqdm import tqdm\n",
    "#from sklearn import datasets\n",
    "#from sklearn import preprocessing\n",
    "#from sklearn import linear_model\n",
    "from sklearn.model_selection import train_test_split\n",
    "from sklearn.metrics import accuracy_score, confusion_matrix\n",
    "import tensorflow as tf\n",
    "from tensorflow import keras\n",
    "from tensorflow.keras import layers, initializers\n",
    "from tensorflow.keras.utils import plot_model\n",
    "\n",
    "from tensorflow.keras.preprocessing.image import ImageDataGenerator\n",
    "\n",
    "from tensorflow.keras.models import Sequential, Model, load_model\n",
    "from tensorflow.keras.layers import (Input, Dense, Dropout, Activation,\n",
    "                                     BatchNormalization, Flatten,\n",
    "                                     Conv2D, MaxPooling2D,\n",
    "                                     GlobalAveragePooling2D)\n",
    "\n",
    "import os\n",
    "import cv2\n",
    "\n",
    "os.environ[\"CUDA_VISIBLE_DEVICES\"] = \"0\"\n",
    "\n",
    "# 檢查有沒有 GPU\n",
    "\n",
    "physical_devices = tf.config.experimental.list_physical_devices('GPU')\n",
    "print(physical_devices)\n",
    "\n",
    "assert len(physical_devices) > 0, \"Not enough GPU hardware devices available\"\n",
    "\n",
    "tf.config.experimental.set_memory_growth(physical_devices[0], True)\n",
    "\n",
    "import tensorflow.keras.backend as K\n",
    "K.clear_session()"
   ]
  },
  {
   "cell_type": "code",
   "execution_count": 2,
   "metadata": {},
   "outputs": [
    {
     "data": {
      "image/png": "[encoded data removed]",
      "text/plain": [
       "<Figure size 432x288 with 1 Axes>"
      ]
     },
     "metadata": {
      "needs_background": "light"
     },
     "output_type": "display_data"
    },
    {
     "data": {
      "text/plain": [
       "(36, 36)"
      ]
     },
     "execution_count": 2,
     "metadata": {},
     "output_type": "execute_result"
    }
   ],
   "source": [
    "image = cv2.imread(\n",
    "    \"/home/jovyan/test1/car_aug/0/0001.bmp\", 0)\n",
    "#    \"/home/jovyan/at083-group23/car_plate_data/0/0001.bmp\", 0)\n",
    "plt.imshow(image, cmap=\"gray\")\n",
    "plt.show()\n",
    "image.shape"
   ]
  },
  {
   "cell_type": "code",
   "execution_count": 3,
   "metadata": {},
   "outputs": [
    {
     "data": {
      "text/plain": [
       "2"
      ]
     },
     "execution_count": 3,
     "metadata": {},
     "output_type": "execute_result"
    }
   ],
   "source": [
    "image.ndim"
   ]
  },
  {
   "cell_type": "code",
   "execution_count": 4,
   "metadata": {},
   "outputs": [
    {
     "data": {
      "text/plain": [
       "dtype('uint8')"
      ]
     },
     "execution_count": 4,
     "metadata": {},
     "output_type": "execute_result"
    }
   ],
   "source": [
    "image.dtype"
   ]
  },
  {
   "cell_type": "code",
   "execution_count": 5,
   "metadata": {},
   "outputs": [],
   "source": [
    "data_path = \"/home/jovyan/test1/car_aug\"\n",
    "#data_path = \"/home/jovyan/at083-group23/car_plate_data\"\n",
    "\n",
    "x_data_list = []\n",
    "y_data_list = []\n",
    "for roots, dirs, files in os.walk(data_path):\n",
    "    for each in files:\n",
    "        if each.find('checkpoint') == -1:\n",
    "            x_data_list.append(os.path.join(roots, each))\n",
    "            y_data_list.append(roots.split(\"/\")[-1])"
   ]
  },
  {
   "cell_type": "code",
   "execution_count": 6,
   "metadata": {},
   "outputs": [],
   "source": [
    "#img_size = 224\n",
    "img_size = 36"
   ]
  },
  {
   "cell_type": "code",
   "execution_count": 7,
   "metadata": {},
   "outputs": [
    {
     "name": "stdout",
     "output_type": "stream",
     "text": [
      "/home/jovyan/test1/car_aug/H/0746.bmp\n",
      "(36, 36)\n"
     ]
    },
    {
     "data": {
      "image/png": "[encoded data removed]",
      "text/plain": [
       "<Figure size 432x288 with 1 Axes>"
      ]
     },
     "metadata": {
      "needs_background": "light"
     },
     "output_type": "display_data"
    }
   ],
   "source": [
    "print(x_data_list[0])\n",
    "img = cv2.imread(x_data_list[0], 0)\n",
    "img = cv2.resize(img, (img_size, img_size))\n",
    "print(img.shape)\n",
    "plt.imshow(img, cmap=\"gray\")\n",
    "plt.axis('off')\n",
    "plt.show()"
   ]
  },
  {
   "cell_type": "code",
   "execution_count": 8,
   "metadata": {},
   "outputs": [
    {
     "name": "stdout",
     "output_type": "stream",
     "text": [
      "(36, 36)\n"
     ]
    }
   ],
   "source": [
    "#img = img[..., np.newaxis]\n",
    "print(img.shape)"
   ]
  },
  {
   "cell_type": "code",
   "execution_count": 9,
   "metadata": {},
   "outputs": [],
   "source": [
    "def load_img(data_list):\n",
    "    data_img = []\n",
    "    for each in tqdm(data_list):\n",
    "        img = cv2.imread(each, 0)\n",
    "        img = cv2.resize(img, (img_size, img_size))\n",
    "        data_img.append(img[..., np.newaxis])\n",
    "        #data_img.append(img)\n",
    "\n",
    "    return np.array(data_img).astype('float32')/255.\n",
    "#    return np.array(data_img).astype('float32')"
   ]
  },
  {
   "cell_type": "code",
   "execution_count": 10,
   "metadata": {},
   "outputs": [
    {
     "name": "stderr",
     "output_type": "stream",
     "text": [
      "100%|██████████| 51795/51795 [00:02<00:00, 24998.20it/s]\n"
     ]
    }
   ],
   "source": [
    "x_data = load_img(x_data_list)"
   ]
  },
  {
   "cell_type": "code",
   "execution_count": 11,
   "metadata": {
    "colab": {
     "base_uri": "https://localhost:8080/",
     "height": 221
    },
    "colab_type": "code",
    "executionInfo": {
     "elapsed": 3980,
     "status": "ok",
     "timestamp": 1563004417153,
     "user": {
      "displayName": "kinna kinna",
      "photoUrl": "",
      "userId": "09336290170720198249"
     },
     "user_tz": -480
    },
    "id": "Q40s0Ia6SOAX",
    "outputId": "cda9ac1e-7442-4b5f-bafd-b4fbc3dc2755"
   },
   "outputs": [
    {
     "data": {
      "image/png": "[encoded data removed]",
      "text/plain": [
       "<Figure size 1152x576 with 2 Axes>"
      ]
     },
     "metadata": {
      "needs_background": "light"
     },
     "output_type": "display_data"
    }
   ],
   "source": [
    "# show image\n",
    "plt.figure(figsize=(16, 8))\n",
    "for i in range(2):\n",
    "    plt.subplot(2, 4, i+1)\n",
    "    plt.imshow(x_data[i][..., 0], cmap='gray')\n",
    "    #plt.imshow(x_data[i][:, :, ::-1])\n",
    "    plt.axis('off')\n",
    "plt.show()"
   ]
  },
  {
   "cell_type": "code",
   "execution_count": 12,
   "metadata": {},
   "outputs": [
    {
     "name": "stdout",
     "output_type": "stream",
     "text": [
      "Index(['9', '7', '5', '1', '8', 'A', '3', '2', '0', 'Z', 'L', 'M', 'Y', 'K',\n",
      "       'Q', 'H', 'G', 'X', 'C', 'P', 'N', 'W', 'V', '4', '6', 'E', 'F', 'T',\n",
      "       'J', 'B', 'U', 'R', 'D', 'S'],\n",
      "      dtype='object')\n",
      "10 + 24 = 34\n"
     ]
    }
   ],
   "source": [
    "y_data_list = pd.DataFrame(y_data_list, columns=['label'])\n",
    "uniques = y_data_list['label'].value_counts().index\n",
    "counts = y_data_list['label'].value_counts().values\n",
    "print(uniques)\n",
    "print('10 + 24 =', uniques.size)"
   ]
  },
  {
   "cell_type": "code",
   "execution_count": 13,
   "metadata": {},
   "outputs": [
    {
     "name": "stdout",
     "output_type": "stream",
     "text": [
      "<class 'pandas.core.frame.DataFrame'>\n",
      "RangeIndex: 34 entries, 0 to 33\n",
      "Data columns (total 1 columns):\n",
      "label    34 non-null object\n",
      "dtypes: object(1)\n",
      "memory usage: 400.0+ bytes\n",
      "None\n",
      "   label\n",
      "0      0\n",
      "1      1\n",
      "2      2\n",
      "3      3\n",
      "4      4\n",
      "5      5\n",
      "6      6\n",
      "7      7\n",
      "8      8\n",
      "9      9\n",
      "10     A\n",
      "11     B\n",
      "12     C\n",
      "13     D\n",
      "14     E\n"
     ]
    }
   ],
   "source": [
    "a = pd.DataFrame(uniques.sort_values(), columns=['label'])\n",
    "print(a.info())\n",
    "print(a.head(15))\n",
    "\n",
    "a.to_csv('/home/jovyan/at083-group23/mapping.txt', float_format=None, \n",
    "         columns=['label'], index=True, index_label='idx')"
   ]
  },
  {
   "cell_type": "code",
   "execution_count": 14,
   "metadata": {},
   "outputs": [
    {
     "data": {
      "image/png": "[encoded data removed]",
      "text/plain": [
       "<Figure size 2160x360 with 1 Axes>"
      ]
     },
     "metadata": {
      "needs_background": "light"
     },
     "output_type": "display_data"
    }
   ],
   "source": [
    "plt.figure(figsize=(30, 5))\n",
    "plt.bar(uniques.sort_values(), counts)\n",
    "plt.xticks(fontsize=16)\n",
    "plt.show()"
   ]
  },
  {
   "cell_type": "code",
   "execution_count": 15,
   "metadata": {},
   "outputs": [
    {
     "name": "stdout",
     "output_type": "stream",
     "text": [
      "<class 'pandas.core.frame.DataFrame'>\n",
      "Index: 34 entries, 0 to Z\n",
      "Data columns (total 1 columns):\n",
      "label    34 non-null int64\n",
      "dtypes: int64(1)\n",
      "memory usage: 544.0+ bytes\n",
      "None\n",
      "     label\n",
      "idx       \n",
      "0        0\n",
      "1        1\n",
      "2        2\n",
      "3        3\n",
      "4        4\n",
      "5        5\n",
      "6        6\n",
      "7        7\n",
      "8        8\n",
      "9        9\n",
      "A       10\n",
      "B       11\n",
      "C       12\n",
      "D       13\n",
      "E       14\n"
     ]
    }
   ],
   "source": [
    "class_path = \"/home/jovyan/at083-group23/\"\n",
    "class_map = pd.read_csv(os.path.join(class_path, 'mapping.txt'),\n",
    "                        header=0, names=['label', 'idx'], index_col=['idx'], \n",
    "                        usecols=None, dtype=None)\n",
    "print(class_map.info())\n",
    "print(class_map.head(15))\n",
    "class_map = class_map.to_dict()['label']"
   ]
  },
  {
   "cell_type": "code",
   "execution_count": 16,
   "metadata": {},
   "outputs": [
    {
     "data": {
      "text/plain": [
       "{'0': 0,\n",
       " '1': 1,\n",
       " '2': 2,\n",
       " '3': 3,\n",
       " '4': 4,\n",
       " '5': 5,\n",
       " '6': 6,\n",
       " '7': 7,\n",
       " '8': 8,\n",
       " '9': 9,\n",
       " 'A': 10,\n",
       " 'B': 11,\n",
       " 'C': 12,\n",
       " 'D': 13,\n",
       " 'E': 14,\n",
       " 'F': 15,\n",
       " 'G': 16,\n",
       " 'H': 17,\n",
       " 'J': 18,\n",
       " 'K': 19,\n",
       " 'L': 20,\n",
       " 'M': 21,\n",
       " 'N': 22,\n",
       " 'P': 23,\n",
       " 'Q': 24,\n",
       " 'R': 25,\n",
       " 'S': 26,\n",
       " 'T': 27,\n",
       " 'U': 28,\n",
       " 'V': 29,\n",
       " 'W': 30,\n",
       " 'X': 31,\n",
       " 'Y': 32,\n",
       " 'Z': 33}"
      ]
     },
     "execution_count": 16,
     "metadata": {},
     "output_type": "execute_result"
    }
   ],
   "source": [
    "class_map"
   ]
  },
  {
   "cell_type": "code",
   "execution_count": 17,
   "metadata": {},
   "outputs": [],
   "source": [
    "y_data = y_data_list['label'].map(class_map).values.copy()\n",
    "\n",
    "x_train, x_test, y_train, y_test = train_test_split(x_data, y_data,\n",
    "                                                    test_size=0.1,\n",
    "                                                    random_state=10,\n",
    "                                                    stratify=y_data)"
   ]
  },
  {
   "cell_type": "code",
   "execution_count": 18,
   "metadata": {},
   "outputs": [
    {
     "name": "stdout",
     "output_type": "stream",
     "text": [
      "x_train shape: (46615, 36, 36, 1)\n",
      "x_test shape: (5180, 36, 36, 1)\n"
     ]
    }
   ],
   "source": [
    "print('x_train shape:', x_train.shape)\n",
    "print('x_test shape:', x_test.shape)"
   ]
  },
  {
   "cell_type": "code",
   "execution_count": 19,
   "metadata": {},
   "outputs": [
    {
     "data": {
      "image/png": "[encoded data removed]",
      "text/plain": [
       "<Figure size 2160x360 with 1 Axes>"
      ]
     },
     "metadata": {
      "needs_background": "light"
     },
     "output_type": "display_data"
    }
   ],
   "source": [
    "uniques, counts = np.unique(y_test, return_counts=True)\n",
    "plt.figure(figsize=(30, 5))\n",
    "plt.bar(uniques, counts)\n",
    "plt.xticks(fontsize=16)\n",
    "plt.show()"
   ]
  },
  {
   "cell_type": "code",
   "execution_count": 20,
   "metadata": {
    "colab": {
     "base_uri": "https://localhost:8080/",
     "height": 188
    },
    "colab_type": "code",
    "executionInfo": {
     "elapsed": 1016,
     "status": "ok",
     "timestamp": 1563000946633,
     "user": {
      "displayName": "kinna kinna",
      "photoUrl": "",
      "userId": "09336290170720198249"
     },
     "user_tz": -480
    },
    "id": "zjl7VQmk_woy",
    "outputId": "d353a3c8-29a9-4c99-86be-b61427de527a"
   },
   "outputs": [
    {
     "data": {
      "text/plain": [
       "array([ 4, 14,  9,  3, 20, 31, 33, 19, 32, 16])"
      ]
     },
     "execution_count": 20,
     "metadata": {},
     "output_type": "execute_result"
    }
   ],
   "source": [
    "y_train[0:10]    # 0:10筆的類別"
   ]
  },
  {
   "cell_type": "code",
   "execution_count": 21,
   "metadata": {
    "colab": {
     "base_uri": "https://localhost:8080/",
     "height": 51
    },
    "colab_type": "code",
    "executionInfo": {
     "elapsed": 1064,
     "status": "ok",
     "timestamp": 1563001029180,
     "user": {
      "displayName": "kinna kinna",
      "photoUrl": "",
      "userId": "09336290170720198249"
     },
     "user_tz": -480
    },
    "id": "eSXBilArX8ih",
    "outputId": "b64ed539-6326-47ec-e676-d571a152d947"
   },
   "outputs": [
    {
     "name": "stdout",
     "output_type": "stream",
     "text": [
      "y_train shape: (46615, 34)\n",
      "y_test shape: (5180, 34)\n"
     ]
    }
   ],
   "source": [
    "# 將訓練資料與測試資料的 label，進行 Onehot encoding 轉換\n",
    "num_classes = len(uniques)\n",
    "\n",
    "y_train = np.eye(num_classes, dtype='float32')[y_train]\n",
    "y_test = np.eye(num_classes, dtype='float32')[y_test]\n",
    "\n",
    "print('y_train shape:', y_train.shape)\n",
    "print('y_test shape:', y_test.shape)"
   ]
  },
  {
   "cell_type": "code",
   "execution_count": 22,
   "metadata": {
    "colab": {
     "base_uri": "https://localhost:8080/",
     "height": 774
    },
    "colab_type": "code",
    "executionInfo": {
     "elapsed": 1085,
     "status": "ok",
     "timestamp": 1563001287037,
     "user": {
      "displayName": "kinna kinna",
      "photoUrl": "",
      "userId": "09336290170720198249"
     },
     "user_tz": -480
    },
    "id": "3cZSnAQjX-M_",
    "outputId": "3fd15f5d-4ffd-4c00-b451-1a4eca25bb87"
   },
   "outputs": [],
   "source": [
    "# 選擇 Keras 的 API 寫法 -- CNN\n",
    "\n",
    "#initial = initializers.he_normal()\n",
    "initial = 'glorot_uniform'\n",
    "\n",
    "\n",
    "inputs = Input(shape=x_train.shape[1:])\n",
    "#inputs = Input(shape=(img_size, img_size, 1))\n",
    "\n",
    "# 第一層\n",
    "# 建立卷積層，設定32個3*3的filters\n",
    "# 設定ReLU為激活函數。\n",
    "x = Conv2D(8, (3, 3), padding='same', kernel_initializer=initial)(inputs)\n",
    "#x = BatchNormalization()(x)\n",
    "x = Activation('relu')(x)\n",
    "\n",
    "\n",
    "# 第二層 - 卷積層 + 池化層\n",
    "x = Conv2D(8, (3, 3), padding='same', kernel_initializer=initial)(x)\n",
    "#x = BatchNormalization()(x)\n",
    "x = Activation('relu')(x)\n",
    "x = MaxPooling2D(pool_size=(2, 2))(x)\n",
    "# x = Dropout(0.25)(x)\n",
    "\n",
    "# 建立分類模型 (MLP) : 平坦層 + 輸出層 (10)\n",
    "x = Flatten()(x)\n",
    "#x = GlobalAveragePooling2D()(x)\n",
    "x = Dense(32, activation='relu')(x)\n",
    "#x = Dropout(0.25)(x)\n",
    "\n",
    "outputs = Dense(num_classes, activation='softmax')(x)\n",
    "\n",
    "\n",
    "cnn_model = Model(inputs=inputs, outputs=outputs)"
   ]
  },
  {
   "cell_type": "code",
   "execution_count": 23,
   "metadata": {},
   "outputs": [
    {
     "name": "stdout",
     "output_type": "stream",
     "text": [
      "Model: \"model\"\n",
      "_________________________________________________________________\n",
      "Layer (type)                 Output Shape              Param #   \n",
      "=================================================================\n",
      "input_1 (InputLayer)         [(None, 36, 36, 1)]       0         \n",
      "_________________________________________________________________\n",
      "conv2d (Conv2D)              (None, 36, 36, 8)         80        \n",
      "_________________________________________________________________\n",
      "activation (Activation)      (None, 36, 36, 8)         0         \n",
      "_________________________________________________________________\n",
      "conv2d_1 (Conv2D)            (None, 36, 36, 8)         584       \n",
      "_________________________________________________________________\n",
      "activation_1 (Activation)    (None, 36, 36, 8)         0         \n",
      "_________________________________________________________________\n",
      "max_pooling2d (MaxPooling2D) (None, 18, 18, 8)         0         \n",
      "_________________________________________________________________\n",
      "flatten (Flatten)            (None, 2592)              0         \n",
      "_________________________________________________________________\n",
      "dense (Dense)                (None, 32)                82976     \n",
      "_________________________________________________________________\n",
      "dense_1 (Dense)              (None, 34)                1122      \n",
      "=================================================================\n",
      "Total params: 84,762\n",
      "Trainable params: 84,762\n",
      "Non-trainable params: 0\n",
      "_________________________________________________________________\n",
      "None\n"
     ]
    }
   ],
   "source": [
    "print(cnn_model.summary())"
   ]
  },
  {
   "cell_type": "code",
   "execution_count": 24,
   "metadata": {},
   "outputs": [],
   "source": [
    "model_dir = 'cnn_model-logs-c'\n",
    "if not os.path.exists(model_dir):\n",
    "    os.makedirs(model_dir)\n",
    "\n",
    "logfiles = model_dir + '/{}-{}'.format('basic_model', cnn_model.__class__.__name__)\n",
    "model_cbk = keras.callbacks.TensorBoard(log_dir=logfiles,\n",
    "                                        histogram_freq=1)\n",
    "\n",
    "modelfiles = model_dir + '/{}-best-model-c.h5'.format('basic_model')\n",
    "model_mckp = keras.callbacks.ModelCheckpoint(modelfiles,\n",
    "                                             monitor='val_accuracy',\n",
    "                                             save_best_only=True)\n",
    "\n",
    "earlystop = keras.callbacks.EarlyStopping(monitor='val_loss',\n",
    "                                          patience=5,\n",
    "                                          verbose=1)\n",
    "\n",
    "\n",
    "callbacks_list = [model_cbk, model_mckp, earlystop]"
   ]
  },
  {
   "cell_type": "code",
   "execution_count": 25,
   "metadata": {
    "colab": {
     "base_uri": "https://localhost:8080/",
     "height": 106
    },
    "colab_type": "code",
    "executionInfo": {
     "elapsed": 1104,
     "status": "ok",
     "timestamp": 1563001643262,
     "user": {
      "displayName": "kinna kinna",
      "photoUrl": "",
      "userId": "09336290170720198249"
     },
     "user_tz": -480
    },
    "id": "8tie_2BzYAF0",
    "outputId": "77537ab9-7e76-4f34-a804-86484dfb80d8"
   },
   "outputs": [],
   "source": [
    "# 編譯模型\n",
    "# 選用 Adam 為 optimizer\n",
    "learning_rate = 1e-3\n",
    "optimizer = keras.optimizers.Adam(lr=learning_rate)\n",
    "\n",
    "\n",
    "\n",
    "cnn_model.compile(loss='categorical_crossentropy',\n",
    "                  optimizer=optimizer,\n",
    "                  metrics=['accuracy'])"
   ]
  },
  {
   "cell_type": "code",
   "execution_count": 26,
   "metadata": {},
   "outputs": [],
   "source": [
    "\n",
    "batch_size = 32\n",
    "epochs = 300\n",
    "\n",
    "num_step = x_train.shape[0] // batch_size + 1\n"
   ]
  },
  {
   "cell_type": "code",
   "execution_count": 27,
   "metadata": {
    "colab": {
     "base_uri": "https://localhost:8080/",
     "height": 652
    },
    "colab_type": "code",
    "executionInfo": {
     "elapsed": 100495,
     "status": "ok",
     "timestamp": 1563004635167,
     "user": {
      "displayName": "kinna kinna",
      "photoUrl": "",
      "userId": "09336290170720198249"
     },
     "user_tz": -480
    },
    "id": "dQ8rNZ9Cd7Ba",
    "outputId": "621e7105-9428-4a9f-a51c-10054f1fe579"
   },
   "outputs": [],
   "source": [
    "\n",
    "\n",
    "datagen = ImageDataGenerator(\n",
    "                             rotation_range=0,\n",
    "                             width_shift_range=0,\n",
    "                             height_shift_range=0,\n",
    "                             brightness_range=None,\n",
    "                             shear_range=0.0,\n",
    "                             zoom_range=0.0,\n",
    "                             channel_shift_range=0.0,\n",
    "                             fill_mode='nearest',\n",
    "                             cval=0.0,\n",
    "                             horizontal_flip=False,\n",
    "                             vertical_flip=False,\n",
    "    \n",
    "                             )\n",
    "\n"
   ]
  },
  {
   "cell_type": "code",
   "execution_count": 49,
   "metadata": {
    "colab": {
     "base_uri": "https://localhost:8080/",
     "height": 826
    },
    "colab_type": "code",
    "executionInfo": {
     "elapsed": 432193,
     "status": "ok",
     "timestamp": 1563002079497,
     "user": {
      "displayName": "kinna kinna",
      "photoUrl": "",
      "userId": "09336290170720198249"
     },
     "user_tz": -480
    },
    "id": "3-2yHC87YRXh",
    "outputId": "1a8dc1d0-459f-4264-c763-923a6b73364c"
   },
   "outputs": [
    {
     "name": "stdout",
     "output_type": "stream",
     "text": [
      "Epoch 1/300\n",
      "1457/1457 - 33s - loss: 0.0228 - accuracy: 0.9922 - val_loss: 0.0866 - val_accuracy: 0.9755\n",
      "Epoch 2/300\n",
      "1457/1457 - 33s - loss: 0.0210 - accuracy: 0.9932 - val_loss: 0.0978 - val_accuracy: 0.9753\n",
      "Epoch 3/300\n",
      "1457/1457 - 33s - loss: 0.0214 - accuracy: 0.9929 - val_loss: 0.0823 - val_accuracy: 0.9795\n",
      "Epoch 4/300\n",
      "1457/1457 - 33s - loss: 0.0207 - accuracy: 0.9934 - val_loss: 0.0920 - val_accuracy: 0.9790\n",
      "Epoch 5/300\n",
      "1457/1457 - 29s - loss: 0.0192 - accuracy: 0.9934 - val_loss: 0.0847 - val_accuracy: 0.9788\n",
      "Epoch 6/300\n",
      "1457/1457 - 28s - loss: 0.0146 - accuracy: 0.9949 - val_loss: 0.0816 - val_accuracy: 0.9793\n",
      "Epoch 7/300\n",
      "1457/1457 - 33s - loss: 0.0187 - accuracy: 0.9935 - val_loss: 0.0777 - val_accuracy: 0.9805\n",
      "Epoch 8/300\n",
      "1457/1457 - 41s - loss: 0.0152 - accuracy: 0.9949 - val_loss: 0.0812 - val_accuracy: 0.9792\n",
      "Epoch 9/300\n",
      "1457/1457 - 42s - loss: 0.0163 - accuracy: 0.9948 - val_loss: 0.0941 - val_accuracy: 0.9790\n",
      "Epoch 10/300\n",
      "1457/1457 - 42s - loss: 0.0153 - accuracy: 0.9948 - val_loss: 0.0741 - val_accuracy: 0.9817\n",
      "Epoch 11/300\n",
      "1457/1457 - 36s - loss: 0.0138 - accuracy: 0.9955 - val_loss: 0.0750 - val_accuracy: 0.9809\n",
      "Epoch 12/300\n",
      "1457/1457 - 39s - loss: 0.0136 - accuracy: 0.9953 - val_loss: 0.1211 - val_accuracy: 0.9736\n",
      "Epoch 13/300\n",
      "1457/1457 - 42s - loss: 0.0123 - accuracy: 0.9958 - val_loss: 0.0713 - val_accuracy: 0.9853\n",
      "Epoch 14/300\n",
      "1457/1457 - 41s - loss: 0.0130 - accuracy: 0.9958 - val_loss: 0.0793 - val_accuracy: 0.9795\n",
      "Epoch 15/300\n",
      "1457/1457 - 33s - loss: 0.0119 - accuracy: 0.9962 - val_loss: 0.0854 - val_accuracy: 0.9832\n",
      "Epoch 16/300\n",
      "1457/1457 - 33s - loss: 0.0118 - accuracy: 0.9961 - val_loss: 0.0914 - val_accuracy: 0.9793\n",
      "Epoch 17/300\n",
      "1457/1457 - 33s - loss: 0.0136 - accuracy: 0.9958 - val_loss: 0.0853 - val_accuracy: 0.9807\n",
      "Epoch 18/300\n",
      "1457/1457 - 33s - loss: 0.0113 - accuracy: 0.9960 - val_loss: 0.0734 - val_accuracy: 0.9826\n",
      "Epoch 00018: early stopping\n"
     ]
    }
   ],
   "source": [
    "\n",
    "cnn_history = cnn_model.fit_generator(datagen.flow(x_train, y_train,\n",
    "                                                batch_size=batch_size),\n",
    "                                        steps_per_epoch=num_step,\n",
    "                                        epochs=epochs,\n",
    "                                        validation_data=(x_test, y_test),\n",
    "                                        verbose=2,\n",
    "                                        callbacks=callbacks_list)\n"
   ]
  },
  {
   "cell_type": "code",
   "execution_count": 50,
   "metadata": {},
   "outputs": [],
   "source": [
    "best_model = \"./cnn_model-logs-c/basic_model-best-model-c.h5\"\n",
    "cnn_model = load_model(best_model)"
   ]
  },
  {
   "cell_type": "code",
   "execution_count": 51,
   "metadata": {},
   "outputs": [
    {
     "name": "stdout",
     "output_type": "stream",
     "text": [
      "5180/1 - 0s - loss: 0.0423 - accuracy: 0.9853\n"
     ]
    }
   ],
   "source": [
    "loss, acc = cnn_model.evaluate(x_test, y_test, verbose=2)"
   ]
  },
  {
   "cell_type": "code",
   "execution_count": 52,
   "metadata": {},
   "outputs": [
    {
     "name": "stdout",
     "output_type": "stream",
     "text": [
      "[[2.34975841e-12 0.00000000e+00 0.00000000e+00 0.00000000e+00\n",
      "  1.05239984e-26 0.00000000e+00 3.62391113e-26 0.00000000e+00\n",
      "  1.16164896e-24 0.00000000e+00 3.27809744e-08 6.23682832e-21\n",
      "  6.54664832e-35 1.81041744e-11 2.04862248e-36 0.00000000e+00\n",
      "  1.15997187e-22 4.75562876e-17 0.00000000e+00 5.03182972e-15\n",
      "  1.50134763e-25 3.27661812e-18 1.00000000e+00 5.50636304e-33\n",
      "  1.10831309e-10 2.63187663e-15 0.00000000e+00 3.15872040e-27\n",
      "  2.44348541e-14 2.49861894e-28 7.03372473e-33 3.99929979e-31\n",
      "  0.00000000e+00 0.00000000e+00]\n",
      " [9.74898725e-17 1.43736487e-31 5.22205350e-27 3.17576428e-37\n",
      "  2.31620764e-23 5.01772233e-30 1.96851640e-23 0.00000000e+00\n",
      "  9.95809034e-23 1.62146118e-34 2.47614544e-24 0.00000000e+00\n",
      "  1.00000000e+00 2.30821575e-31 1.65302086e-17 3.15131620e-21\n",
      "  1.71044031e-15 0.00000000e+00 0.00000000e+00 1.01619288e-31\n",
      "  2.49722215e-10 0.00000000e+00 0.00000000e+00 1.24472735e-25\n",
      "  1.87299698e-24 3.96972154e-31 4.49133249e-34 2.65656770e-16\n",
      "  8.02480825e-24 2.28977661e-35 0.00000000e+00 3.58257142e-38\n",
      "  1.56578660e-35 7.64554541e-36]\n",
      " [6.29670605e-23 9.47698601e-24 1.58680092e-29 3.84408441e-21\n",
      "  4.83371944e-35 1.83748835e-20 5.25496857e-26 4.38946435e-09\n",
      "  4.01855128e-17 3.12377232e-31 1.80225251e-33 5.34017181e-24\n",
      "  1.18471080e-22 2.48352425e-24 2.48286500e-21 5.54080794e-20\n",
      "  1.10062931e-23 2.21441115e-38 4.34813237e-36 9.44406488e-33\n",
      "  3.98801841e-35 0.00000000e+00 0.00000000e+00 1.21866343e-21\n",
      "  1.88683712e-32 1.74953370e-22 0.00000000e+00 1.00000000e+00\n",
      "  1.68282039e-27 5.34951546e-22 3.48716018e-31 2.76002488e-15\n",
      "  2.10575046e-09 7.59141078e-19]]\n",
      "[22 12 27]\n"
     ]
    }
   ],
   "source": [
    "y_pred = cnn_model.predict(x_test)\n",
    "print(y_pred[:3])\n",
    "y_pred = y_pred.argmax(-1)\n",
    "print(y_pred[:3])"
   ]
  },
  {
   "cell_type": "code",
   "execution_count": 53,
   "metadata": {},
   "outputs": [
    {
     "name": "stdout",
     "output_type": "stream",
     "text": [
      "0.9853281853281853\n"
     ]
    },
    {
     "data": {
      "text/plain": [
       "array([[142,   0,   0, ...,   0,   0,   0],\n",
       "       [  0, 156,   0, ...,   0,   1,   0],\n",
       "       [  0,   0, 153, ...,   0,   0,   1],\n",
       "       ...,\n",
       "       [  0,   0,   0, ..., 148,   2,   0],\n",
       "       [  0,   0,   0, ...,   0, 151,   0],\n",
       "       [  0,   0,   4, ...,   0,   0, 148]])"
      ]
     },
     "execution_count": 53,
     "metadata": {},
     "output_type": "execute_result"
    }
   ],
   "source": [
    "print(accuracy_score(y_test.argmax(-1), y_pred))\n",
    "#print(confusion_matrix(y_test.argmax(-1), y_pred))\n",
    "confusion_matrix(y_test.argmax(-1), y_pred)"
   ]
  },
  {
   "cell_type": "code",
   "execution_count": 54,
   "metadata": {},
   "outputs": [],
   "source": [
    "class_names = np.array([each for each in class_map.keys()])"
   ]
  },
  {
   "cell_type": "code",
   "execution_count": 55,
   "metadata": {},
   "outputs": [
    {
     "data": {
      "image/png": "[encoded data removed]",
      "text/plain": [
       "<Figure size 720x720 with 1 Axes>"
      ]
     },
     "metadata": {
      "needs_background": "light"
     },
     "output_type": "display_data"
    }
   ],
   "source": [
    "import seaborn as sns\n",
    "\n",
    "matrix = confusion_matrix(y_test.argmax(-1), y_pred)\n",
    "\n",
    "plt.figure(figsize=(10, 10))\n",
    "sns.heatmap(matrix, annot=True, cbar=False, cmap=\"Blues\",\n",
    "            xticklabels=class_names,\n",
    "            yticklabels=class_names)\n",
    "plt.ylabel('True Label')\n",
    "plt.xlabel('Predicted Label')\n",
    "plt.title('Confusion Matrix')\n",
    "\n",
    "# Save figure first to prevent black after show figure.\n",
    "plt.savefig('./Confusion Matrix-c.png')\n",
    "\n",
    "plt.show()"
   ]
  },
  {
   "cell_type": "code",
   "execution_count": null,
   "metadata": {},
   "outputs": [],
   "source": []
  }
 ],
 "metadata": {
  "kernelspec": {
   "display_name": "Python 3",
   "language": "python",
   "name": "python3"
  },
  "language_info": {
   "codemirror_mode": {
    "name": "ipython",
    "version": 3
   },
   "file_extension": ".py",
   "mimetype": "text/x-python",
   "name": "python",
   "nbconvert_exporter": "python",
   "pygments_lexer": "ipython3",
   "version": "3.7.3"
  }
 },
 "nbformat": 4,
 "nbformat_minor": 4
}
