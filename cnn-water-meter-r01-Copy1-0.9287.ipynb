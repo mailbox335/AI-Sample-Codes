{
 "cells": [
  {
   "cell_type": "code",
   "execution_count": 1,
   "metadata": {},
   "outputs": [
    {
     "name": "stdout",
     "output_type": "stream",
     "text": [
      "[PhysicalDevice(name='/physical_device:GPU:0', device_type='GPU')]\n"
     ]
    }
   ],
   "source": [
    "import numpy as np\n",
    "import pandas as pd\n",
    "import matplotlib.pyplot as plt\n",
    "from tqdm import tqdm\n",
    "#from sklearn import datasets\n",
    "#from sklearn import preprocessing\n",
    "#from sklearn import linear_model\n",
    "from sklearn.model_selection import train_test_split\n",
    "from sklearn.metrics import accuracy_score, confusion_matrix\n",
    "import tensorflow as tf\n",
    "from tensorflow import keras\n",
    "from tensorflow.keras import layers, initializers\n",
    "from tensorflow.keras.utils import plot_model\n",
    "\n",
    "from tensorflow.keras.preprocessing.image import ImageDataGenerator\n",
    "\n",
    "from tensorflow.keras.models import Sequential, Model, load_model\n",
    "from tensorflow.keras.layers import (Input, Dense, Dropout, Activation,\n",
    "                                     BatchNormalization, Flatten,\n",
    "                                     Conv2D, MaxPooling2D,\n",
    "                                     GlobalAveragePooling2D)\n",
    "\n",
    "import os\n",
    "import cv2\n",
    "\n",
    "os.environ[\"CUDA_VISIBLE_DEVICES\"] = \"0\"\n",
    "\n",
    "# 檢查有沒有 GPU\n",
    "\n",
    "physical_devices = tf.config.experimental.list_physical_devices('GPU')\n",
    "print(physical_devices)\n",
    "\n",
    "assert len(physical_devices) > 0, \"Not enough GPU hardware devices available\"\n",
    "\n",
    "tf.config.experimental.set_memory_growth(physical_devices[0], True)\n",
    "\n",
    "import tensorflow.keras.backend as K\n",
    "K.clear_session()"
   ]
  },
  {
   "cell_type": "code",
   "execution_count": 2,
   "metadata": {},
   "outputs": [
    {
     "data": {
      "image/png": "[encoded data removed]",
      "text/plain": [
       "<Figure size 432x288 with 1 Axes>"
      ]
     },
     "metadata": {
      "needs_background": "light"
     },
     "output_type": "display_data"
    },
    {
     "data": {
      "text/plain": [
       "(28, 28)"
      ]
     },
     "execution_count": 2,
     "metadata": {},
     "output_type": "execute_result"
    }
   ],
   "source": [
    "image = cv2.imread(\n",
    "    \"/home/jovyan/test1/water_aug/0/0000.bmp\", 0)\n",
    "#    \"/home/jovyan/at083-group23/aia_meter_datasets/0/20190828101256.bmp\", 0)\n",
    "plt.imshow(image, cmap=\"gray\")\n",
    "plt.show()\n",
    "image.shape"
   ]
  },
  {
   "cell_type": "code",
   "execution_count": 3,
   "metadata": {},
   "outputs": [
    {
     "data": {
      "text/plain": [
       "2"
      ]
     },
     "execution_count": 3,
     "metadata": {},
     "output_type": "execute_result"
    }
   ],
   "source": [
    "image.ndim"
   ]
  },
  {
   "cell_type": "code",
   "execution_count": 4,
   "metadata": {},
   "outputs": [
    {
     "data": {
      "text/plain": [
       "dtype('uint8')"
      ]
     },
     "execution_count": 4,
     "metadata": {},
     "output_type": "execute_result"
    }
   ],
   "source": [
    "image.dtype"
   ]
  },
  {
   "cell_type": "code",
   "execution_count": 5,
   "metadata": {},
   "outputs": [],
   "source": [
    "data_path = \"/home/jovyan/test1/water_aug\"\n",
    "#data_path = \"/home/jovyan/at083-group23/aia_meter_datasets\"\n",
    "\n",
    "x_data_list = []\n",
    "y_data_list = []\n",
    "for roots, dirs, files in os.walk(data_path):\n",
    "    for each in files:\n",
    "        if each.find('checkpoint') == -1:\n",
    "            x_data_list.append(os.path.join(roots, each))\n",
    "            y_data_list.append(roots.split(\"/\")[-1])"
   ]
  },
  {
   "cell_type": "code",
   "execution_count": 6,
   "metadata": {},
   "outputs": [],
   "source": [
    "#img_size = 224\n",
    "#img_size = 28"
   ]
  },
  {
   "cell_type": "code",
   "execution_count": 7,
   "metadata": {},
   "outputs": [
    {
     "name": "stdout",
     "output_type": "stream",
     "text": [
      "/home/jovyan/test1/water_aug/7/1555.bmp\n",
      "(28, 28)\n"
     ]
    },
    {
     "data": {
      "image/png": "[encoded data removed]",
      "text/plain": [
       "<Figure size 432x288 with 1 Axes>"
      ]
     },
     "metadata": {
      "needs_background": "light"
     },
     "output_type": "display_data"
    }
   ],
   "source": [
    "print(x_data_list[0])\n",
    "img = cv2.imread(x_data_list[0], 0)\n",
    "#img = cv2.resize(img, (img_size, img_size))\n",
    "print(img.shape)\n",
    "plt.imshow(img, cmap=\"gray\")\n",
    "plt.axis('off')\n",
    "plt.show()"
   ]
  },
  {
   "cell_type": "code",
   "execution_count": 8,
   "metadata": {},
   "outputs": [
    {
     "name": "stdout",
     "output_type": "stream",
     "text": [
      "(28, 28)\n"
     ]
    }
   ],
   "source": [
    "#img = img[..., np.newaxis]\n",
    "print(img.shape)"
   ]
  },
  {
   "cell_type": "code",
   "execution_count": 9,
   "metadata": {},
   "outputs": [],
   "source": [
    "def load_img(data_list):\n",
    "    data_img = []\n",
    "    for each in tqdm(data_list):\n",
    "        img = cv2.imread(each, 0)\n",
    "        #img = cv2.resize(img, (img_size, img_size))\n",
    "        data_img.append(img[..., np.newaxis])\n",
    "        #data_img.append(img)\n",
    "\n",
    "    return np.array(data_img).astype('float32')/255.\n",
    "#    return np.array(data_img).astype('float32')"
   ]
  },
  {
   "cell_type": "code",
   "execution_count": 10,
   "metadata": {},
   "outputs": [
    {
     "name": "stderr",
     "output_type": "stream",
     "text": [
      "100%|██████████| 33240/33240 [00:01<00:00, 29664.79it/s]\n"
     ]
    }
   ],
   "source": [
    "x_data = load_img(x_data_list)"
   ]
  },
  {
   "cell_type": "code",
   "execution_count": 11,
   "metadata": {
    "colab": {
     "base_uri": "https://localhost:8080/",
     "height": 221
    },
    "colab_type": "code",
    "executionInfo": {
     "elapsed": 3980,
     "status": "ok",
     "timestamp": 1563004417153,
     "user": {
      "displayName": "kinna kinna",
      "photoUrl": "",
      "userId": "09336290170720198249"
     },
     "user_tz": -480
    },
    "id": "Q40s0Ia6SOAX",
    "outputId": "cda9ac1e-7442-4b5f-bafd-b4fbc3dc2755"
   },
   "outputs": [
    {
     "data": {
      "image/png": "[encoded data removed]",
      "text/plain": [
       "<Figure size 1152x576 with 2 Axes>"
      ]
     },
     "metadata": {
      "needs_background": "light"
     },
     "output_type": "display_data"
    }
   ],
   "source": [
    "# show image\n",
    "plt.figure(figsize=(16, 8))\n",
    "for i in range(2):\n",
    "    plt.subplot(2, 4, i+1)\n",
    "    plt.imshow(x_data[i][..., 0], cmap='gray')\n",
    "    #plt.imshow(x_data[i][:, :, ::-1])\n",
    "    plt.axis('off')\n",
    "plt.show()"
   ]
  },
  {
   "cell_type": "code",
   "execution_count": 12,
   "metadata": {},
   "outputs": [
    {
     "name": "stdout",
     "output_type": "stream",
     "text": [
      "Index(['2', '6', '3', '0', '1', '5', '9', '7', '8', '4', '3-4', '4-5', '9-0',\n",
      "       '7-8', '0-1', '2-3', '5-6', '8-9', '1-2', '6-7'],\n",
      "      dtype='object')\n",
      "10 + 10 = 20\n"
     ]
    }
   ],
   "source": [
    "y_data_list = pd.DataFrame(y_data_list, columns=['label'])\n",
    "uniques = y_data_list['label'].value_counts().index\n",
    "counts = y_data_list['label'].value_counts().values\n",
    "print(uniques)\n",
    "print('10 + 10 =', uniques.size)"
   ]
  },
  {
   "cell_type": "code",
   "execution_count": 13,
   "metadata": {},
   "outputs": [
    {
     "name": "stdout",
     "output_type": "stream",
     "text": [
      "<class 'pandas.core.frame.DataFrame'>\n",
      "RangeIndex: 20 entries, 0 to 19\n",
      "Data columns (total 1 columns):\n",
      "label    20 non-null object\n",
      "dtypes: object(1)\n",
      "memory usage: 288.0+ bytes\n",
      "None\n",
      "   label\n",
      "0      0\n",
      "1    0-1\n",
      "2      1\n",
      "3    1-2\n",
      "4      2\n",
      "5    2-3\n",
      "6      3\n",
      "7    3-4\n",
      "8      4\n",
      "9    4-5\n",
      "10     5\n",
      "11   5-6\n",
      "12     6\n",
      "13   6-7\n",
      "14     7\n"
     ]
    }
   ],
   "source": [
    "a = pd.DataFrame(uniques.sort_values(), columns=['label'])\n",
    "print(a.info())\n",
    "print(a.head(15))\n",
    "\n",
    "a.to_csv('/home/jovyan/at083-group23/mapping2.txt', float_format=None, \n",
    "         columns=['label'], index=True, index_label='idx')"
   ]
  },
  {
   "cell_type": "code",
   "execution_count": 14,
   "metadata": {},
   "outputs": [
    {
     "data": {
      "image/png": "[encoded data removed]",
      "text/plain": [
       "<Figure size 2160x360 with 1 Axes>"
      ]
     },
     "metadata": {
      "needs_background": "light"
     },
     "output_type": "display_data"
    }
   ],
   "source": [
    "plt.figure(figsize=(30, 5))\n",
    "plt.bar(uniques.sort_values(), counts)\n",
    "plt.xticks(fontsize=16)\n",
    "plt.show()"
   ]
  },
  {
   "cell_type": "code",
   "execution_count": 15,
   "metadata": {},
   "outputs": [
    {
     "name": "stdout",
     "output_type": "stream",
     "text": [
      "<class 'pandas.core.frame.DataFrame'>\n",
      "Index: 20 entries, 0 to 9-0\n",
      "Data columns (total 1 columns):\n",
      "label    20 non-null int64\n",
      "dtypes: int64(1)\n",
      "memory usage: 320.0+ bytes\n",
      "None\n",
      "     label\n",
      "idx       \n",
      "0        0\n",
      "0-1      1\n",
      "1        2\n",
      "1-2      3\n",
      "2        4\n",
      "2-3      5\n",
      "3        6\n",
      "3-4      7\n",
      "4        8\n",
      "4-5      9\n",
      "5       10\n",
      "5-6     11\n",
      "6       12\n",
      "6-7     13\n",
      "7       14\n"
     ]
    }
   ],
   "source": [
    "class_path = \"/home/jovyan/at083-group23/\"\n",
    "class_map = pd.read_csv(os.path.join(class_path, 'mapping2.txt'),\n",
    "                        header=0, names=['label', 'idx'], index_col=['idx'], \n",
    "                        usecols=None, dtype=None)\n",
    "print(class_map.info())\n",
    "print(class_map.head(15))\n",
    "class_map = class_map.to_dict()['label']"
   ]
  },
  {
   "cell_type": "code",
   "execution_count": 16,
   "metadata": {},
   "outputs": [
    {
     "data": {
      "text/plain": [
       "{'0': 0,\n",
       " '0-1': 1,\n",
       " '1': 2,\n",
       " '1-2': 3,\n",
       " '2': 4,\n",
       " '2-3': 5,\n",
       " '3': 6,\n",
       " '3-4': 7,\n",
       " '4': 8,\n",
       " '4-5': 9,\n",
       " '5': 10,\n",
       " '5-6': 11,\n",
       " '6': 12,\n",
       " '6-7': 13,\n",
       " '7': 14,\n",
       " '7-8': 15,\n",
       " '8': 16,\n",
       " '8-9': 17,\n",
       " '9': 18,\n",
       " '9-0': 19}"
      ]
     },
     "execution_count": 16,
     "metadata": {},
     "output_type": "execute_result"
    }
   ],
   "source": [
    "class_map"
   ]
  },
  {
   "cell_type": "code",
   "execution_count": 17,
   "metadata": {},
   "outputs": [],
   "source": [
    "y_data = y_data_list['label'].map(class_map).values.copy()\n",
    "\n",
    "x_train, x_test, y_train, y_test = train_test_split(x_data, y_data,\n",
    "                                                    test_size=0.1,\n",
    "                                                    random_state=10,\n",
    "                                                    stratify=y_data)"
   ]
  },
  {
   "cell_type": "code",
   "execution_count": 18,
   "metadata": {},
   "outputs": [
    {
     "name": "stdout",
     "output_type": "stream",
     "text": [
      "x_train shape: (29916, 28, 28, 1)\n",
      "x_test shape: (3324, 28, 28, 1)\n"
     ]
    }
   ],
   "source": [
    "print('x_train shape:', x_train.shape)\n",
    "print('x_test shape:', x_test.shape)"
   ]
  },
  {
   "cell_type": "code",
   "execution_count": 19,
   "metadata": {},
   "outputs": [
    {
     "data": {
      "image/png": "[encoded data removed]",
      "text/plain": [
       "<Figure size 2160x360 with 1 Axes>"
      ]
     },
     "metadata": {
      "needs_background": "light"
     },
     "output_type": "display_data"
    }
   ],
   "source": [
    "uniques, counts = np.unique(y_test, return_counts=True)\n",
    "plt.figure(figsize=(30, 5))\n",
    "plt.bar(uniques, counts)\n",
    "plt.xticks(fontsize=16)\n",
    "plt.show()"
   ]
  },
  {
   "cell_type": "code",
   "execution_count": 20,
   "metadata": {
    "colab": {
     "base_uri": "https://localhost:8080/",
     "height": 188
    },
    "colab_type": "code",
    "executionInfo": {
     "elapsed": 1016,
     "status": "ok",
     "timestamp": 1563000946633,
     "user": {
      "displayName": "kinna kinna",
      "photoUrl": "",
      "userId": "09336290170720198249"
     },
     "user_tz": -480
    },
    "id": "zjl7VQmk_woy",
    "outputId": "d353a3c8-29a9-4c99-86be-b61427de527a"
   },
   "outputs": [
    {
     "data": {
      "text/plain": [
       "array([ 2, 18,  8, 10, 15, 10, 18, 10,  7, 12])"
      ]
     },
     "execution_count": 20,
     "metadata": {},
     "output_type": "execute_result"
    }
   ],
   "source": [
    "y_train[0:10]    # 0:10筆的類別"
   ]
  },
  {
   "cell_type": "code",
   "execution_count": 21,
   "metadata": {
    "colab": {
     "base_uri": "https://localhost:8080/",
     "height": 51
    },
    "colab_type": "code",
    "executionInfo": {
     "elapsed": 1064,
     "status": "ok",
     "timestamp": 1563001029180,
     "user": {
      "displayName": "kinna kinna",
      "photoUrl": "",
      "userId": "09336290170720198249"
     },
     "user_tz": -480
    },
    "id": "eSXBilArX8ih",
    "outputId": "b64ed539-6326-47ec-e676-d571a152d947"
   },
   "outputs": [
    {
     "name": "stdout",
     "output_type": "stream",
     "text": [
      "y_train shape: (29916, 20)\n",
      "y_test shape: (3324, 20)\n"
     ]
    }
   ],
   "source": [
    "# 將訓練資料與測試資料的 label，進行 Onehot encoding 轉換\n",
    "num_classes = len(uniques)\n",
    "\n",
    "y_train = np.eye(num_classes, dtype='float32')[y_train]\n",
    "y_test = np.eye(num_classes, dtype='float32')[y_test]\n",
    "\n",
    "print('y_train shape:', y_train.shape)\n",
    "print('y_test shape:', y_test.shape)"
   ]
  },
  {
   "cell_type": "code",
   "execution_count": 22,
   "metadata": {
    "colab": {
     "base_uri": "https://localhost:8080/",
     "height": 774
    },
    "colab_type": "code",
    "executionInfo": {
     "elapsed": 1085,
     "status": "ok",
     "timestamp": 1563001287037,
     "user": {
      "displayName": "kinna kinna",
      "photoUrl": "",
      "userId": "09336290170720198249"
     },
     "user_tz": -480
    },
    "id": "3cZSnAQjX-M_",
    "outputId": "3fd15f5d-4ffd-4c00-b451-1a4eca25bb87"
   },
   "outputs": [],
   "source": [
    "# 選擇 Keras 的 API 寫法 -- CNN\n",
    "\n",
    "#initial = initializers.he_normal()\n",
    "initial = 'glorot_uniform'\n",
    "\n",
    "\n",
    "inputs = Input(shape=x_train.shape[1:])\n",
    "#inputs = Input(shape=(img_size, img_size, 1))\n",
    "\n",
    "# 第一層\n",
    "# 建立卷積層，設定32個3*3的filters\n",
    "# 設定ReLU為激活函數。\n",
    "x = Conv2D(32, (3, 3), padding='same', kernel_initializer=initial)(inputs)\n",
    "#x = BatchNormalization()(x)\n",
    "x = Activation('relu')(x)\n",
    "\n",
    "\n",
    "# 第二層 - 卷積層 + 池化層\n",
    "x = Conv2D(32, (3, 3), padding='same', kernel_initializer=initial)(x)\n",
    "#x = BatchNormalization()(x)\n",
    "x = Activation('relu')(x)\n",
    "x = MaxPooling2D(pool_size=(2, 2))(x)\n",
    "# x = Dropout(0.25)(x)\n",
    "\n",
    "# 建立分類模型 (MLP) : 平坦層 + 輸出層 (10)\n",
    "x = Flatten()(x)\n",
    "#x = GlobalAveragePooling2D()(x)\n",
    "x = Dense(8, activation='relu')(x)\n",
    "#x = Dropout(0.25)(x)\n",
    "\n",
    "outputs = Dense(num_classes, activation='softmax')(x)\n",
    "\n",
    "\n",
    "cnn_model = Model(inputs=inputs, outputs=outputs)"
   ]
  },
  {
   "cell_type": "code",
   "execution_count": 23,
   "metadata": {},
   "outputs": [
    {
     "name": "stdout",
     "output_type": "stream",
     "text": [
      "Model: \"model\"\n",
      "_________________________________________________________________\n",
      "Layer (type)                 Output Shape              Param #   \n",
      "=================================================================\n",
      "input_1 (InputLayer)         [(None, 28, 28, 1)]       0         \n",
      "_________________________________________________________________\n",
      "conv2d (Conv2D)              (None, 28, 28, 32)        320       \n",
      "_________________________________________________________________\n",
      "activation (Activation)      (None, 28, 28, 32)        0         \n",
      "_________________________________________________________________\n",
      "conv2d_1 (Conv2D)            (None, 28, 28, 32)        9248      \n",
      "_________________________________________________________________\n",
      "activation_1 (Activation)    (None, 28, 28, 32)        0         \n",
      "_________________________________________________________________\n",
      "max_pooling2d (MaxPooling2D) (None, 14, 14, 32)        0         \n",
      "_________________________________________________________________\n",
      "flatten (Flatten)            (None, 6272)              0         \n",
      "_________________________________________________________________\n",
      "dense (Dense)                (None, 8)                 50184     \n",
      "_________________________________________________________________\n",
      "dense_1 (Dense)              (None, 20)                180       \n",
      "=================================================================\n",
      "Total params: 59,932\n",
      "Trainable params: 59,932\n",
      "Non-trainable params: 0\n",
      "_________________________________________________________________\n",
      "None\n"
     ]
    }
   ],
   "source": [
    "print(cnn_model.summary())"
   ]
  },
  {
   "cell_type": "code",
   "execution_count": 24,
   "metadata": {},
   "outputs": [],
   "source": [
    "model_dir = 'cnn_model-logs-w'\n",
    "if not os.path.exists(model_dir):\n",
    "    os.makedirs(model_dir)\n",
    "\n",
    "logfiles = model_dir + '/{}-{}'.format('basic_model', cnn_model.__class__.__name__)\n",
    "model_cbk = keras.callbacks.TensorBoard(log_dir=logfiles,\n",
    "                                        histogram_freq=1)\n",
    "\n",
    "modelfiles = model_dir + '/{}-best-model-w.h5'.format('basic_model')\n",
    "model_mckp = keras.callbacks.ModelCheckpoint(modelfiles,\n",
    "                                             monitor='val_accuracy',\n",
    "                                             save_best_only=True)\n",
    "\n",
    "earlystop = keras.callbacks.EarlyStopping(monitor='val_loss',\n",
    "                                          patience=5,\n",
    "                                          verbose=1)\n",
    "\n",
    "\n",
    "callbacks_list = [model_cbk, model_mckp, earlystop]"
   ]
  },
  {
   "cell_type": "code",
   "execution_count": 25,
   "metadata": {
    "colab": {
     "base_uri": "https://localhost:8080/",
     "height": 106
    },
    "colab_type": "code",
    "executionInfo": {
     "elapsed": 1104,
     "status": "ok",
     "timestamp": 1563001643262,
     "user": {
      "displayName": "kinna kinna",
      "photoUrl": "",
      "userId": "09336290170720198249"
     },
     "user_tz": -480
    },
    "id": "8tie_2BzYAF0",
    "outputId": "77537ab9-7e76-4f34-a804-86484dfb80d8"
   },
   "outputs": [],
   "source": [
    "# 編譯模型\n",
    "# 選用 Adam 為 optimizer\n",
    "learning_rate = 1e-3\n",
    "optimizer = keras.optimizers.Adam(lr=learning_rate)\n",
    "\n",
    "\n",
    "\n",
    "cnn_model.compile(loss='categorical_crossentropy',\n",
    "                  optimizer=optimizer,\n",
    "                  metrics=['accuracy'])"
   ]
  },
  {
   "cell_type": "code",
   "execution_count": 26,
   "metadata": {},
   "outputs": [],
   "source": [
    "\n",
    "batch_size = 32\n",
    "epochs = 300\n",
    "\n",
    "num_step = x_train.shape[0] // batch_size + 1\n"
   ]
  },
  {
   "cell_type": "code",
   "execution_count": 27,
   "metadata": {
    "colab": {
     "base_uri": "https://localhost:8080/",
     "height": 652
    },
    "colab_type": "code",
    "executionInfo": {
     "elapsed": 100495,
     "status": "ok",
     "timestamp": 1563004635167,
     "user": {
      "displayName": "kinna kinna",
      "photoUrl": "",
      "userId": "09336290170720198249"
     },
     "user_tz": -480
    },
    "id": "dQ8rNZ9Cd7Ba",
    "outputId": "621e7105-9428-4a9f-a51c-10054f1fe579"
   },
   "outputs": [],
   "source": [
    "\n",
    "\n",
    "datagen = ImageDataGenerator(\n",
    "                             rotation_range=0,\n",
    "                             width_shift_range=0,\n",
    "                             height_shift_range=0,\n",
    "                             brightness_range=None,\n",
    "                             shear_range=0.0,\n",
    "                             zoom_range=0.0,\n",
    "                             channel_shift_range=0.0,\n",
    "                             fill_mode='nearest',\n",
    "                             cval=0.0,\n",
    "                             horizontal_flip=False,\n",
    "                             vertical_flip=False,\n",
    "    \n",
    "                             )\n",
    "\n"
   ]
  },
  {
   "cell_type": "code",
   "execution_count": 44,
   "metadata": {
    "colab": {
     "base_uri": "https://localhost:8080/",
     "height": 826
    },
    "colab_type": "code",
    "executionInfo": {
     "elapsed": 432193,
     "status": "ok",
     "timestamp": 1563002079497,
     "user": {
      "displayName": "kinna kinna",
      "photoUrl": "",
      "userId": "09336290170720198249"
     },
     "user_tz": -480
    },
    "id": "3-2yHC87YRXh",
    "outputId": "1a8dc1d0-459f-4264-c763-923a6b73364c"
   },
   "outputs": [
    {
     "name": "stdout",
     "output_type": "stream",
     "text": [
      "Epoch 1/300\n",
      "935/935 - 18s - loss: 0.0589 - accuracy: 0.9792 - val_loss: 0.3148 - val_accuracy: 0.9224\n",
      "Epoch 2/300\n",
      "935/935 - 21s - loss: 0.0514 - accuracy: 0.9813 - val_loss: 0.3064 - val_accuracy: 0.9212\n",
      "Epoch 3/300\n",
      "935/935 - 21s - loss: 0.0584 - accuracy: 0.9789 - val_loss: 0.3511 - val_accuracy: 0.9082\n",
      "Epoch 4/300\n",
      "935/935 - 21s - loss: 0.0493 - accuracy: 0.9814 - val_loss: 0.3504 - val_accuracy: 0.9125\n",
      "Epoch 5/300\n",
      "935/935 - 21s - loss: 0.0507 - accuracy: 0.9818 - val_loss: 0.3014 - val_accuracy: 0.9278\n",
      "Epoch 6/300\n",
      "935/935 - 21s - loss: 0.0499 - accuracy: 0.9813 - val_loss: 0.3538 - val_accuracy: 0.9128\n",
      "Epoch 7/300\n",
      "935/935 - 21s - loss: 0.0428 - accuracy: 0.9845 - val_loss: 0.3033 - val_accuracy: 0.9254\n",
      "Epoch 8/300\n",
      "935/935 - 21s - loss: 0.0433 - accuracy: 0.9849 - val_loss: 0.3608 - val_accuracy: 0.9197\n",
      "Epoch 9/300\n",
      "935/935 - 21s - loss: 0.0415 - accuracy: 0.9848 - val_loss: 0.3297 - val_accuracy: 0.9227\n",
      "Epoch 10/300\n",
      "935/935 - 21s - loss: 0.0451 - accuracy: 0.9835 - val_loss: 0.3156 - val_accuracy: 0.9287\n",
      "Epoch 00010: early stopping\n"
     ]
    }
   ],
   "source": [
    "\n",
    "cnn_history = cnn_model.fit_generator(datagen.flow(x_train, y_train,\n",
    "                                                batch_size=batch_size),\n",
    "                                        steps_per_epoch=num_step,\n",
    "                                        epochs=epochs,\n",
    "                                        validation_data=(x_test, y_test),\n",
    "                                        verbose=2,\n",
    "                                        callbacks=callbacks_list)\n"
   ]
  },
  {
   "cell_type": "code",
   "execution_count": 45,
   "metadata": {},
   "outputs": [],
   "source": [
    "best_model = \"./cnn_model-logs-w/basic_model-best-model-w.h5\"\n",
    "cnn_model = load_model(best_model)"
   ]
  },
  {
   "cell_type": "code",
   "execution_count": 46,
   "metadata": {},
   "outputs": [
    {
     "name": "stdout",
     "output_type": "stream",
     "text": [
      "3324/1 - 0s - loss: 0.2733 - accuracy: 0.9287\n"
     ]
    }
   ],
   "source": [
    "loss, acc = cnn_model.evaluate(x_test, y_test, verbose=2)"
   ]
  },
  {
   "cell_type": "code",
   "execution_count": 47,
   "metadata": {},
   "outputs": [
    {
     "name": "stdout",
     "output_type": "stream",
     "text": [
      "[[6.4675621e-34 5.9641846e-17 0.0000000e+00 1.0091772e-30 1.6672004e-11\n",
      "  2.7476564e-05 1.4324244e-19 3.9477567e-18 2.3277116e-38 1.5287464e-17\n",
      "  9.9997246e-01 2.3552655e-09 1.3505986e-07 9.3700776e-11 1.8834858e-38\n",
      "  1.1050301e-21 1.4145229e-17 3.2775669e-17 1.4513335e-20 4.4399542e-33]\n",
      " [1.9543729e-07 8.2155225e-09 6.4609790e-10 5.9026887e-04 5.0078951e-15\n",
      "  2.8496068e-29 9.9940932e-01 6.0796381e-08 1.3867521e-25 4.3418144e-23\n",
      "  6.4058686e-26 1.2265658e-19 2.2221468e-30 5.9418852e-08 4.2935600e-10\n",
      "  6.1679120e-09 3.9877888e-14 3.3306039e-27 2.0045143e-09 2.5328077e-13]\n",
      " [1.2005413e-17 1.7844075e-11 1.7960665e-28 4.9351150e-27 0.0000000e+00\n",
      "  1.6710602e-30 3.0259757e-14 3.5735927e-14 0.0000000e+00 0.0000000e+00\n",
      "  2.8995945e-31 6.4296881e-18 2.5626420e-25 4.0843606e-08 1.1950756e-26\n",
      "  9.0914496e-34 1.7225008e-23 2.0675213e-12 2.5146836e-09 1.0000000e+00]]\n",
      "[10  6 19]\n"
     ]
    }
   ],
   "source": [
    "y_pred = cnn_model.predict(x_test)\n",
    "print(y_pred[:3])\n",
    "y_pred = y_pred.argmax(-1)\n",
    "print(y_pred[:3])"
   ]
  },
  {
   "cell_type": "code",
   "execution_count": 48,
   "metadata": {},
   "outputs": [
    {
     "name": "stdout",
     "output_type": "stream",
     "text": [
      "0.9287003610108303\n"
     ]
    },
    {
     "data": {
      "text/plain": [
       "array([[206,   8,   0,   0,   0,   0,   0,   0,   0,   0,   0,   0,   0,\n",
       "          0,   0,   0,   0,   0,   2,   0],\n",
       "       [  6, 112,   0,   0,   0,   0,   1,   2,   0,   0,   0,   0,   0,\n",
       "          0,   0,   2,   0,   0,   0,   1],\n",
       "       [  1,   1, 200,   9,   0,   0,   0,   0,   0,   0,   0,   0,   0,\n",
       "          0,   0,   1,   0,   0,   0,   0],\n",
       "       [  0,   0,   1,  64,   7,   0,   1,   0,   0,   2,   0,   0,   0,\n",
       "          0,   0,   5,   0,   0,   0,   0],\n",
       "       [  0,   0,   0,   6, 219,  14,   0,   0,   1,   0,   0,   0,   0,\n",
       "          0,   0,   0,   0,   0,   0,   0],\n",
       "       [  0,   0,   0,   0,  13,  94,   0,   1,   0,   2,   2,   0,   0,\n",
       "          0,   0,   0,   0,   0,   0,   0],\n",
       "       [  1,   0,   0,   0,   0,   0, 209,   9,   0,   0,   0,   0,   0,\n",
       "          0,   0,   0,   0,   0,   1,   0],\n",
       "       [  0,   3,   0,   0,   1,   2,  13, 140,   0,   0,   0,   0,   0,\n",
       "          1,   0,   0,   0,   0,   0,   0],\n",
       "       [  0,   0,   1,   0,   0,   0,   0,   0, 197,   0,   0,   0,   0,\n",
       "          0,   0,   2,   0,   0,   0,   0],\n",
       "       [  0,   0,   0,   1,   0,   1,   0,   0,   0, 154,   0,   3,   0,\n",
       "          0,   0,   1,   0,   0,   0,   0],\n",
       "       [  0,   0,   0,   0,   0,   1,   0,   0,   0,   0, 196,   4,   7,\n",
       "          0,   0,   0,   0,   0,   0,   0],\n",
       "       [  0,   0,   0,   0,   0,   0,   0,   0,   0,   2,   7,  74,  18,\n",
       "          1,   0,   0,   0,   1,   0,   1],\n",
       "       [  0,   0,   0,   0,   0,   0,   0,   0,   0,   1,   2,  12, 206,\n",
       "          0,   0,   0,   2,   0,   1,   0],\n",
       "       [  0,   1,   0,   0,   1,   0,   0,   0,   0,   0,   0,   0,   1,\n",
       "         74,   0,   0,   0,   0,   3,   0],\n",
       "       [  0,   0,   0,   0,   0,   0,   0,   0,   0,   0,   0,   0,   0,\n",
       "          0, 199,   0,   0,   0,   0,   1],\n",
       "       [  0,   1,   2,   7,   3,   0,   0,   3,   0,   1,   0,   0,   1,\n",
       "          0,   0, 118,   0,   0,   0,   0],\n",
       "       [  2,   0,   0,   0,   0,   0,   0,   0,   0,   0,   0,   0,   1,\n",
       "          0,   0,   0, 195,   0,   2,   0],\n",
       "       [  0,   0,   0,   0,   0,   0,   0,   0,   0,   0,   0,   2,   5,\n",
       "          0,   0,   0,   0,  86,   1,   2],\n",
       "       [  0,   0,   1,   0,   0,   0,   0,   0,   0,   0,   0,   0,   0,\n",
       "          0,   0,   0,   0,   1, 200,   2],\n",
       "       [  0,   0,   0,   0,   0,   0,   0,   0,   0,   0,   0,   1,   0,\n",
       "          1,   0,   0,   0,   1,   1, 144]])"
      ]
     },
     "execution_count": 48,
     "metadata": {},
     "output_type": "execute_result"
    }
   ],
   "source": [
    "print(accuracy_score(y_test.argmax(-1), y_pred))\n",
    "#print(confusion_matrix(y_test.argmax(-1), y_pred))\n",
    "confusion_matrix(y_test.argmax(-1), y_pred)"
   ]
  },
  {
   "cell_type": "code",
   "execution_count": 49,
   "metadata": {},
   "outputs": [],
   "source": [
    "class_names = np.array([each for each in class_map.keys()])"
   ]
  },
  {
   "cell_type": "code",
   "execution_count": 50,
   "metadata": {},
   "outputs": [
    {
     "data": {
      "image/png": "[encoded data removed]",
      "text/plain": [
       "<Figure size 720x720 with 1 Axes>"
      ]
     },
     "metadata": {
      "needs_background": "light"
     },
     "output_type": "display_data"
    }
   ],
   "source": [
    "import seaborn as sns\n",
    "\n",
    "matrix = confusion_matrix(y_test.argmax(-1), y_pred)\n",
    "\n",
    "plt.figure(figsize=(10, 10))\n",
    "sns.heatmap(matrix, annot=True, cbar=False, cmap=\"Blues\",\n",
    "            xticklabels=class_names,\n",
    "            yticklabels=class_names)\n",
    "plt.ylabel('True Label')\n",
    "plt.xlabel('Predicted Label')\n",
    "plt.title('Confusion Matrix')\n",
    "\n",
    "# Save figure first to prevent black after show figure.\n",
    "plt.savefig('./Confusion Matrix-w.png')\n",
    "\n",
    "plt.show()"
   ]
  },
  {
   "cell_type": "code",
   "execution_count": null,
   "metadata": {},
   "outputs": [],
   "source": []
  }
 ],
 "metadata": {
  "kernelspec": {
   "display_name": "Python 3",
   "language": "python",
   "name": "python3"
  },
  "language_info": {
   "codemirror_mode": {
    "name": "ipython",
    "version": 3
   },
   "file_extension": ".py",
   "mimetype": "text/x-python",
   "name": "python",
   "nbconvert_exporter": "python",
   "pygments_lexer": "ipython3",
   "version": "3.7.3"
  }
 },
 "nbformat": 4,
 "nbformat_minor": 4
}
