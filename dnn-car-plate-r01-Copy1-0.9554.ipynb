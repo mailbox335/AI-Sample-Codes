{
 "cells": [
  {
   "cell_type": "code",
   "execution_count": 1,
   "metadata": {},
   "outputs": [
    {
     "name": "stdout",
     "output_type": "stream",
     "text": [
      "[PhysicalDevice(name='/physical_device:GPU:0', device_type='GPU')]\n"
     ]
    }
   ],
   "source": [
    "import numpy as np\n",
    "import pandas as pd\n",
    "import matplotlib.pyplot as plt\n",
    "from tqdm import tqdm\n",
    "#from sklearn import datasets\n",
    "#from sklearn import preprocessing\n",
    "#from sklearn import linear_model\n",
    "from sklearn.model_selection import train_test_split\n",
    "from sklearn.metrics import accuracy_score, confusion_matrix\n",
    "import tensorflow as tf\n",
    "from tensorflow import keras\n",
    "from tensorflow.keras import layers, initializers\n",
    "from tensorflow.keras.utils import plot_model\n",
    "\n",
    "from tensorflow.keras.preprocessing.image import ImageDataGenerator\n",
    "\n",
    "from tensorflow.keras.models import Sequential, Model, load_model\n",
    "from tensorflow.keras.layers import (Input, Dense, Dropout, Activation,\n",
    "                                     BatchNormalization, Flatten,\n",
    "                                     Conv2D, MaxPooling2D,\n",
    "                                     GlobalAveragePooling2D)\n",
    "\n",
    "import os\n",
    "import cv2\n",
    "\n",
    "os.environ[\"CUDA_VISIBLE_DEVICES\"] = \"0\"\n",
    "\n",
    "# 檢查有沒有 GPU\n",
    "#import tensorflow as tf\n",
    "\n",
    "physical_devices = tf.config.experimental.list_physical_devices('GPU')\n",
    "print(physical_devices)\n",
    "\n",
    "assert len(physical_devices) > 0, \"Not enough GPU hardware devices available\"\n",
    "# Not enough GPU hardware devices available\n",
    "# assert len(physical_devices) > 0\n",
    "\n",
    "tf.config.experimental.set_memory_growth(physical_devices[0], True)\n",
    "\n",
    "import tensorflow.keras.backend as K\n",
    "K.clear_session()"
   ]
  },
  {
   "cell_type": "code",
   "execution_count": 2,
   "metadata": {},
   "outputs": [
    {
     "data": {
      "image/png": "[encoded data removed]",
      "text/plain": [
       "<Figure size 432x288 with 1 Axes>"
      ]
     },
     "metadata": {
      "needs_background": "light"
     },
     "output_type": "display_data"
    },
    {
     "data": {
      "text/plain": [
       "(36, 36)"
      ]
     },
     "execution_count": 2,
     "metadata": {},
     "output_type": "execute_result"
    }
   ],
   "source": [
    "image = cv2.imread(\n",
    "    \"/home/jovyan/test1/car_aug/0/0001.bmp\", 0)\n",
    "#    \"/home/jovyan/at083-group23/car_plate_data/0/0001.bmp\", 0)\n",
    "#image = cv2.cvtColor(image, cv2.COLOR_RGB2GRAY)\n",
    "plt.imshow(image, cmap=\"gray\")\n",
    "plt.show()\n",
    "image.shape"
   ]
  },
  {
   "cell_type": "code",
   "execution_count": 3,
   "metadata": {},
   "outputs": [
    {
     "data": {
      "text/plain": [
       "2"
      ]
     },
     "execution_count": 3,
     "metadata": {},
     "output_type": "execute_result"
    }
   ],
   "source": [
    "image.ndim"
   ]
  },
  {
   "cell_type": "code",
   "execution_count": 4,
   "metadata": {},
   "outputs": [
    {
     "data": {
      "text/plain": [
       "dtype('uint8')"
      ]
     },
     "execution_count": 4,
     "metadata": {},
     "output_type": "execute_result"
    }
   ],
   "source": [
    "image.dtype"
   ]
  },
  {
   "cell_type": "code",
   "execution_count": 5,
   "metadata": {},
   "outputs": [],
   "source": [
    "data_path = \"/home/jovyan/test1/car_aug\"\n",
    "#data_path = \"/home/jovyan/at083-group23/car_plate_data\"\n",
    "\n",
    "x_data_list = []\n",
    "y_data_list = []\n",
    "for roots, dirs, files in os.walk(data_path):\n",
    "    for each in files:\n",
    "        if each.find('checkpoint') == -1:\n",
    "            x_data_list.append(os.path.join(roots, each))\n",
    "            y_data_list.append(roots.split(\"/\")[-1])"
   ]
  },
  {
   "cell_type": "code",
   "execution_count": 6,
   "metadata": {},
   "outputs": [],
   "source": [
    "#img_size = 224\n",
    "img_size = 36"
   ]
  },
  {
   "cell_type": "code",
   "execution_count": 7,
   "metadata": {},
   "outputs": [
    {
     "name": "stdout",
     "output_type": "stream",
     "text": [
      "/home/jovyan/test1/car_aug/H/0746.bmp\n",
      "(36, 36)\n"
     ]
    },
    {
     "data": {
      "image/png": "[encoded data removed]",
      "text/plain": [
       "<Figure size 432x288 with 1 Axes>"
      ]
     },
     "metadata": {
      "needs_background": "light"
     },
     "output_type": "display_data"
    }
   ],
   "source": [
    "print(x_data_list[0])\n",
    "img = cv2.imread(x_data_list[0], 0)\n",
    "img = cv2.resize(img, (img_size, img_size))\n",
    "print(img.shape)\n",
    "plt.imshow(img, cmap=\"gray\")\n",
    "plt.axis('off')\n",
    "plt.show()"
   ]
  },
  {
   "cell_type": "code",
   "execution_count": 8,
   "metadata": {},
   "outputs": [
    {
     "name": "stdout",
     "output_type": "stream",
     "text": [
      "(36, 36)\n"
     ]
    }
   ],
   "source": [
    "#img = img[..., np.newaxis]\n",
    "print(img.shape)"
   ]
  },
  {
   "cell_type": "code",
   "execution_count": 9,
   "metadata": {},
   "outputs": [],
   "source": [
    "def load_img(data_list):\n",
    "    data_img = []\n",
    "    for each in tqdm(data_list):\n",
    "        img = cv2.imread(each, 0)\n",
    "        img = cv2.resize(img, (img_size, img_size))\n",
    "        data_img.append(img[..., np.newaxis])\n",
    "        #data_img.append(img)\n",
    "\n",
    "    return np.array(data_img).astype('float32')/255.\n",
    "#    return np.array(data_img).astype('float32')"
   ]
  },
  {
   "cell_type": "code",
   "execution_count": 10,
   "metadata": {},
   "outputs": [
    {
     "name": "stderr",
     "output_type": "stream",
     "text": [
      "100%|██████████| 51795/51795 [00:01<00:00, 27509.57it/s]\n"
     ]
    }
   ],
   "source": [
    "x_data = load_img(x_data_list)"
   ]
  },
  {
   "cell_type": "code",
   "execution_count": 11,
   "metadata": {
    "colab": {
     "base_uri": "https://localhost:8080/",
     "height": 221
    },
    "colab_type": "code",
    "executionInfo": {
     "elapsed": 3980,
     "status": "ok",
     "timestamp": 1563004417153,
     "user": {
      "displayName": "kinna kinna",
      "photoUrl": "",
      "userId": "09336290170720198249"
     },
     "user_tz": -480
    },
    "id": "Q40s0Ia6SOAX",
    "outputId": "cda9ac1e-7442-4b5f-bafd-b4fbc3dc2755"
   },
   "outputs": [
    {
     "data": {
      "image/png": "[encoded data removed]",
      "text/plain": [
       "<Figure size 1152x576 with 2 Axes>"
      ]
     },
     "metadata": {
      "needs_background": "light"
     },
     "output_type": "display_data"
    }
   ],
   "source": [
    "# show image\n",
    "plt.figure(figsize=(16, 8))\n",
    "for i in range(2):\n",
    "    plt.subplot(2, 4, i+1)\n",
    "    plt.imshow(x_data[i][..., 0], cmap='gray')\n",
    "    #plt.imshow(x_data[i][:, :, ::-1])\n",
    "    plt.axis('off')\n",
    "plt.show()"
   ]
  },
  {
   "cell_type": "code",
   "execution_count": 12,
   "metadata": {},
   "outputs": [
    {
     "name": "stdout",
     "output_type": "stream",
     "text": [
      "Index(['9', '7', '5', '1', '3', 'A', '8', '2', '0', 'Z', 'M', 'L', '4', 'C',\n",
      "       'Y', 'Q', 'N', 'E', 'K', 'P', 'H', 'G', 'X', 'V', '6', 'W', 'T', 'F',\n",
      "       'R', 'D', 'J', 'U', 'B', 'S'],\n",
      "      dtype='object')\n",
      "10 + 24 = 34\n"
     ]
    }
   ],
   "source": [
    "y_data_list = pd.DataFrame(y_data_list, columns=['label'])\n",
    "uniques = y_data_list['label'].value_counts().index\n",
    "counts = y_data_list['label'].value_counts().values\n",
    "#print(y_data_list.sample(10))\n",
    "print(uniques)\n",
    "print('10 + 24 =', uniques.size)"
   ]
  },
  {
   "cell_type": "code",
   "execution_count": 13,
   "metadata": {},
   "outputs": [
    {
     "name": "stdout",
     "output_type": "stream",
     "text": [
      "<class 'pandas.core.frame.DataFrame'>\n",
      "RangeIndex: 34 entries, 0 to 33\n",
      "Data columns (total 1 columns):\n",
      "label    34 non-null object\n",
      "dtypes: object(1)\n",
      "memory usage: 400.0+ bytes\n",
      "None\n",
      "   label\n",
      "0      0\n",
      "1      1\n",
      "2      2\n",
      "3      3\n",
      "4      4\n",
      "5      5\n",
      "6      6\n",
      "7      7\n",
      "8      8\n",
      "9      9\n",
      "10     A\n",
      "11     B\n",
      "12     C\n",
      "13     D\n",
      "14     E\n"
     ]
    }
   ],
   "source": [
    "a = pd.DataFrame(uniques.sort_values(), columns=['label'])\n",
    "print(a.info())\n",
    "print(a.head(15))\n",
    "\n",
    "a.to_csv('/home/jovyan/at083-group23/mapping.txt', float_format=None, \n",
    "         columns=['label'], index=True, index_label='idx')"
   ]
  },
  {
   "cell_type": "code",
   "execution_count": 14,
   "metadata": {},
   "outputs": [
    {
     "data": {
      "image/png": "[encoded data removed]",
      "text/plain": [
       "<Figure size 2160x360 with 1 Axes>"
      ]
     },
     "metadata": {
      "needs_background": "light"
     },
     "output_type": "display_data"
    }
   ],
   "source": [
    "plt.figure(figsize=(30, 5))\n",
    "plt.bar(uniques.sort_values(), counts)\n",
    "plt.xticks(fontsize=16)\n",
    "plt.show()"
   ]
  },
  {
   "cell_type": "code",
   "execution_count": 15,
   "metadata": {},
   "outputs": [
    {
     "name": "stdout",
     "output_type": "stream",
     "text": [
      "<class 'pandas.core.frame.DataFrame'>\n",
      "Index: 34 entries, 0 to Z\n",
      "Data columns (total 1 columns):\n",
      "label    34 non-null int64\n",
      "dtypes: int64(1)\n",
      "memory usage: 544.0+ bytes\n",
      "None\n",
      "     label\n",
      "idx       \n",
      "0        0\n",
      "1        1\n",
      "2        2\n",
      "3        3\n",
      "4        4\n",
      "5        5\n",
      "6        6\n",
      "7        7\n",
      "8        8\n",
      "9        9\n",
      "A       10\n",
      "B       11\n",
      "C       12\n",
      "D       13\n",
      "E       14\n"
     ]
    }
   ],
   "source": [
    "class_path = \"/home/jovyan/at083-group23/\"\n",
    "class_map = pd.read_csv(os.path.join(class_path, 'mapping.txt'),\n",
    "                        header=0, names=['label', 'idx'], index_col=['idx'], \n",
    "                        usecols=None, dtype=None)\n",
    "print(class_map.info())\n",
    "print(class_map.head(15))\n",
    "class_map = class_map.to_dict()['label']"
   ]
  },
  {
   "cell_type": "code",
   "execution_count": 16,
   "metadata": {},
   "outputs": [
    {
     "data": {
      "text/plain": [
       "{'0': 0,\n",
       " '1': 1,\n",
       " '2': 2,\n",
       " '3': 3,\n",
       " '4': 4,\n",
       " '5': 5,\n",
       " '6': 6,\n",
       " '7': 7,\n",
       " '8': 8,\n",
       " '9': 9,\n",
       " 'A': 10,\n",
       " 'B': 11,\n",
       " 'C': 12,\n",
       " 'D': 13,\n",
       " 'E': 14,\n",
       " 'F': 15,\n",
       " 'G': 16,\n",
       " 'H': 17,\n",
       " 'J': 18,\n",
       " 'K': 19,\n",
       " 'L': 20,\n",
       " 'M': 21,\n",
       " 'N': 22,\n",
       " 'P': 23,\n",
       " 'Q': 24,\n",
       " 'R': 25,\n",
       " 'S': 26,\n",
       " 'T': 27,\n",
       " 'U': 28,\n",
       " 'V': 29,\n",
       " 'W': 30,\n",
       " 'X': 31,\n",
       " 'Y': 32,\n",
       " 'Z': 33}"
      ]
     },
     "execution_count": 16,
     "metadata": {},
     "output_type": "execute_result"
    }
   ],
   "source": [
    "class_map"
   ]
  },
  {
   "cell_type": "code",
   "execution_count": 17,
   "metadata": {},
   "outputs": [],
   "source": [
    "y_data = y_data_list['label'].map(class_map).values.copy()\n",
    "\n",
    "x_train, x_test, y_train, y_test = train_test_split(x_data, y_data,\n",
    "                                                    test_size=0.1,\n",
    "                                                    random_state=10,\n",
    "                                                    stratify=y_data)"
   ]
  },
  {
   "cell_type": "code",
   "execution_count": 18,
   "metadata": {},
   "outputs": [
    {
     "name": "stdout",
     "output_type": "stream",
     "text": [
      "x_train shape: (46615, 36, 36, 1)\n",
      "x_test shape: (5180, 36, 36, 1)\n"
     ]
    }
   ],
   "source": [
    "print('x_train shape:', x_train.shape)\n",
    "print('x_test shape:', x_test.shape)"
   ]
  },
  {
   "cell_type": "code",
   "execution_count": 19,
   "metadata": {},
   "outputs": [
    {
     "data": {
      "image/png": "[encoded data removed]",
      "text/plain": [
       "<Figure size 2160x360 with 1 Axes>"
      ]
     },
     "metadata": {
      "needs_background": "light"
     },
     "output_type": "display_data"
    }
   ],
   "source": [
    "uniques, counts = np.unique(y_test, return_counts=True)\n",
    "plt.figure(figsize=(30, 5))\n",
    "plt.bar(uniques, counts)\n",
    "plt.xticks(fontsize=16)\n",
    "plt.show()"
   ]
  },
  {
   "cell_type": "code",
   "execution_count": 20,
   "metadata": {
    "colab": {
     "base_uri": "https://localhost:8080/",
     "height": 188
    },
    "colab_type": "code",
    "executionInfo": {
     "elapsed": 1016,
     "status": "ok",
     "timestamp": 1563000946633,
     "user": {
      "displayName": "kinna kinna",
      "photoUrl": "",
      "userId": "09336290170720198249"
     },
     "user_tz": -480
    },
    "id": "zjl7VQmk_woy",
    "outputId": "d353a3c8-29a9-4c99-86be-b61427de527a"
   },
   "outputs": [
    {
     "data": {
      "text/plain": [
       "array([ 4, 14,  9,  3, 20, 31, 33, 19, 32, 16])"
      ]
     },
     "execution_count": 20,
     "metadata": {},
     "output_type": "execute_result"
    }
   ],
   "source": [
    "y_train[0:10]    # 0:10筆的類別"
   ]
  },
  {
   "cell_type": "code",
   "execution_count": 21,
   "metadata": {
    "colab": {
     "base_uri": "https://localhost:8080/",
     "height": 51
    },
    "colab_type": "code",
    "executionInfo": {
     "elapsed": 1064,
     "status": "ok",
     "timestamp": 1563001029180,
     "user": {
      "displayName": "kinna kinna",
      "photoUrl": "",
      "userId": "09336290170720198249"
     },
     "user_tz": -480
    },
    "id": "eSXBilArX8ih",
    "outputId": "b64ed539-6326-47ec-e676-d571a152d947"
   },
   "outputs": [
    {
     "name": "stdout",
     "output_type": "stream",
     "text": [
      "y_train shape: (46615, 34)\n",
      "y_test shape: (5180, 34)\n"
     ]
    }
   ],
   "source": [
    "# 將訓練資料與測試資料的 label，進行 Onehot encoding 轉換\n",
    "num_classes = len(uniques)\n",
    "\n",
    "y_train = np.eye(num_classes, dtype='float32')[y_train]\n",
    "y_test = np.eye(num_classes, dtype='float32')[y_test]\n",
    "\n",
    "print('y_train shape:', y_train.shape)\n",
    "print('y_test shape:', y_test.shape)"
   ]
  },
  {
   "cell_type": "code",
   "execution_count": 22,
   "metadata": {
    "colab": {
     "base_uri": "https://localhost:8080/",
     "height": 774
    },
    "colab_type": "code",
    "executionInfo": {
     "elapsed": 1085,
     "status": "ok",
     "timestamp": 1563001287037,
     "user": {
      "displayName": "kinna kinna",
      "photoUrl": "",
      "userId": "09336290170720198249"
     },
     "user_tz": -480
    },
    "id": "3cZSnAQjX-M_",
    "outputId": "3fd15f5d-4ffd-4c00-b451-1a4eca25bb87"
   },
   "outputs": [],
   "source": [
    "# Flatten the input data\n",
    "\n",
    "x_train = Flatten()(x_train)\n",
    "x_train = x_train.numpy()\n",
    "x_test = Flatten()(x_test)\n",
    "x_test = x_test.numpy()"
   ]
  },
  {
   "cell_type": "code",
   "execution_count": 23,
   "metadata": {},
   "outputs": [
    {
     "name": "stdout",
     "output_type": "stream",
     "text": [
      "x_train shape: (46615, 1296)\n",
      "x_test shape: (5180, 1296)\n"
     ]
    }
   ],
   "source": [
    "print('x_train shape:', x_train.shape)\n",
    "print('x_test shape:', x_test.shape)"
   ]
  },
  {
   "cell_type": "code",
   "execution_count": 24,
   "metadata": {
    "colab": {
     "base_uri": "https://localhost:8080/",
     "height": 774
    },
    "colab_type": "code",
    "executionInfo": {
     "elapsed": 1085,
     "status": "ok",
     "timestamp": 1563001287037,
     "user": {
      "displayName": "kinna kinna",
      "photoUrl": "",
      "userId": "09336290170720198249"
     },
     "user_tz": -480
    },
    "id": "3cZSnAQjX-M_",
    "outputId": "3fd15f5d-4ffd-4c00-b451-1a4eca25bb87"
   },
   "outputs": [],
   "source": [
    "# 選擇 Keras 的 API 寫法 -- DNN\n",
    "\n",
    "inputs = Input(shape=x_train.shape[1:])\n",
    "#inputs = Input(shape=(img_size, img_size, 1))\n",
    "\n",
    "# 第一層\n",
    "# 設定ReLU為激活函數。\n",
    "x = Dense(256, activation='relu')(inputs)\n",
    "\n",
    "# 第二層 \n",
    "# 設定ReLU為激活函數。\n",
    "x = Dense(128, activation='relu')(x)\n",
    "\n",
    "# 第三層 \n",
    "# 設定ReLU為激活函數。\n",
    "x = Dense(64, activation='relu')(x)\n",
    "\n",
    "outputs = Dense(num_classes, activation='softmax')(x)\n",
    "\n",
    "\n",
    "dnn_model = Model(inputs=inputs, outputs=outputs)"
   ]
  },
  {
   "cell_type": "code",
   "execution_count": 25,
   "metadata": {},
   "outputs": [
    {
     "name": "stdout",
     "output_type": "stream",
     "text": [
      "Model: \"model\"\n",
      "_________________________________________________________________\n",
      "Layer (type)                 Output Shape              Param #   \n",
      "=================================================================\n",
      "input_1 (InputLayer)         [(None, 1296)]            0         \n",
      "_________________________________________________________________\n",
      "dense (Dense)                (None, 256)               332032    \n",
      "_________________________________________________________________\n",
      "dense_1 (Dense)              (None, 128)               32896     \n",
      "_________________________________________________________________\n",
      "dense_2 (Dense)              (None, 64)                8256      \n",
      "_________________________________________________________________\n",
      "dense_3 (Dense)              (None, 34)                2210      \n",
      "=================================================================\n",
      "Total params: 375,394\n",
      "Trainable params: 375,394\n",
      "Non-trainable params: 0\n",
      "_________________________________________________________________\n",
      "None\n"
     ]
    }
   ],
   "source": [
    "print(dnn_model.summary())"
   ]
  },
  {
   "cell_type": "code",
   "execution_count": 26,
   "metadata": {},
   "outputs": [],
   "source": [
    "model_dir = 'dnn_model-logs-c'\n",
    "if not os.path.exists(model_dir):\n",
    "    os.makedirs(model_dir)\n",
    "\n",
    "logfiles = model_dir + '/{}-{}'.format('basic_model', dnn_model.__class__.__name__)\n",
    "model_cbk = keras.callbacks.TensorBoard(log_dir=logfiles,\n",
    "                                        histogram_freq=1)\n",
    "\n",
    "modelfiles = model_dir + '/{}-best-model-c.h5'.format('basic_model')\n",
    "model_mckp = keras.callbacks.ModelCheckpoint(modelfiles,\n",
    "                                             monitor='val_accuracy',\n",
    "                                             save_best_only=True)\n",
    "\n",
    "earlystop = keras.callbacks.EarlyStopping(monitor='val_loss',\n",
    "                                          patience=5,\n",
    "                                          verbose=1)\n",
    "\n",
    "\n",
    "callbacks_list = [model_cbk, model_mckp, earlystop]"
   ]
  },
  {
   "cell_type": "code",
   "execution_count": 27,
   "metadata": {
    "colab": {
     "base_uri": "https://localhost:8080/",
     "height": 106
    },
    "colab_type": "code",
    "executionInfo": {
     "elapsed": 1104,
     "status": "ok",
     "timestamp": 1563001643262,
     "user": {
      "displayName": "kinna kinna",
      "photoUrl": "",
      "userId": "09336290170720198249"
     },
     "user_tz": -480
    },
    "id": "8tie_2BzYAF0",
    "outputId": "77537ab9-7e76-4f34-a804-86484dfb80d8"
   },
   "outputs": [],
   "source": [
    "# 編譯模型\n",
    "# 選用 Adam 為 optimizer\n",
    "learning_rate = 1e-3\n",
    "optimizer = keras.optimizers.Adam(lr=learning_rate)\n",
    "\n",
    "\n",
    "\n",
    "dnn_model.compile(loss='categorical_crossentropy',\n",
    "                  optimizer=optimizer,\n",
    "                  metrics=['accuracy'])"
   ]
  },
  {
   "cell_type": "code",
   "execution_count": 28,
   "metadata": {},
   "outputs": [],
   "source": [
    "\n",
    "batch_size = 32\n",
    "epochs = 300\n",
    "\n",
    "num_step = x_train.shape[0] // batch_size + 1\n"
   ]
  },
  {
   "cell_type": "code",
   "execution_count": 29,
   "metadata": {
    "colab": {
     "base_uri": "https://localhost:8080/",
     "height": 826
    },
    "colab_type": "code",
    "executionInfo": {
     "elapsed": 432193,
     "status": "ok",
     "timestamp": 1563002079497,
     "user": {
      "displayName": "kinna kinna",
      "photoUrl": "",
      "userId": "09336290170720198249"
     },
     "user_tz": -480
    },
    "id": "3-2yHC87YRXh",
    "outputId": "1a8dc1d0-459f-4264-c763-923a6b73364c"
   },
   "outputs": [
    {
     "name": "stdout",
     "output_type": "stream",
     "text": [
      "Train on 46615 samples, validate on 5180 samples\n",
      "Epoch 1/300\n",
      "WARNING:tensorflow:Method (on_train_batch_end) is slow compared to the batch update (0.112073). Check your callbacks.\n",
      "46615/46615 - 6s - loss: 1.8259 - accuracy: 0.4348 - val_loss: 0.9280 - val_accuracy: 0.6840\n",
      "Epoch 2/300\n",
      "46615/46615 - 5s - loss: 0.6439 - accuracy: 0.7750 - val_loss: 0.5169 - val_accuracy: 0.8205\n",
      "Epoch 3/300\n",
      "46615/46615 - 5s - loss: 0.4250 - accuracy: 0.8500 - val_loss: 0.4116 - val_accuracy: 0.8562\n",
      "Epoch 4/300\n",
      "46615/46615 - 5s - loss: 0.3269 - accuracy: 0.8829 - val_loss: 0.2970 - val_accuracy: 0.8959\n",
      "Epoch 5/300\n",
      "46615/46615 - 5s - loss: 0.2859 - accuracy: 0.8961 - val_loss: 0.3259 - val_accuracy: 0.8882\n",
      "Epoch 6/300\n",
      "46615/46615 - 5s - loss: 0.2522 - accuracy: 0.9096 - val_loss: 0.3040 - val_accuracy: 0.8911\n",
      "Epoch 7/300\n",
      "46615/46615 - 5s - loss: 0.2274 - accuracy: 0.9178 - val_loss: 0.2984 - val_accuracy: 0.8925\n",
      "Epoch 8/300\n",
      "46615/46615 - 4s - loss: 0.2041 - accuracy: 0.9252 - val_loss: 0.2847 - val_accuracy: 0.9042\n",
      "Epoch 9/300\n",
      "46615/46615 - 4s - loss: 0.1822 - accuracy: 0.9330 - val_loss: 0.1821 - val_accuracy: 0.9400\n",
      "Epoch 10/300\n",
      "46615/46615 - 4s - loss: 0.1845 - accuracy: 0.9326 - val_loss: 0.2683 - val_accuracy: 0.9120\n",
      "Epoch 11/300\n",
      "46615/46615 - 4s - loss: 0.1627 - accuracy: 0.9410 - val_loss: 0.1879 - val_accuracy: 0.9380\n",
      "Epoch 12/300\n",
      "46615/46615 - 4s - loss: 0.1606 - accuracy: 0.9418 - val_loss: 0.2998 - val_accuracy: 0.9031\n",
      "Epoch 13/300\n",
      "46615/46615 - 4s - loss: 0.1520 - accuracy: 0.9454 - val_loss: 0.1770 - val_accuracy: 0.9400\n",
      "Epoch 14/300\n",
      "46615/46615 - 4s - loss: 0.1447 - accuracy: 0.9484 - val_loss: 0.2029 - val_accuracy: 0.9371\n",
      "Epoch 15/300\n",
      "46615/46615 - 4s - loss: 0.1433 - accuracy: 0.9482 - val_loss: 0.1844 - val_accuracy: 0.9361\n",
      "Epoch 16/300\n",
      "46615/46615 - 4s - loss: 0.1327 - accuracy: 0.9526 - val_loss: 0.2483 - val_accuracy: 0.9199\n",
      "Epoch 17/300\n",
      "46615/46615 - 4s - loss: 0.1341 - accuracy: 0.9525 - val_loss: 0.1686 - val_accuracy: 0.9463\n",
      "Epoch 18/300\n",
      "46615/46615 - 4s - loss: 0.1324 - accuracy: 0.9534 - val_loss: 0.1615 - val_accuracy: 0.9446\n",
      "Epoch 19/300\n",
      "46615/46615 - 4s - loss: 0.1250 - accuracy: 0.9557 - val_loss: 0.1410 - val_accuracy: 0.9554\n",
      "Epoch 20/300\n",
      "46615/46615 - 4s - loss: 0.1155 - accuracy: 0.9604 - val_loss: 0.1563 - val_accuracy: 0.9523\n",
      "Epoch 21/300\n",
      "46615/46615 - 4s - loss: 0.1209 - accuracy: 0.9571 - val_loss: 0.2167 - val_accuracy: 0.9320\n",
      "Epoch 22/300\n",
      "46615/46615 - 4s - loss: 0.1140 - accuracy: 0.9594 - val_loss: 0.1484 - val_accuracy: 0.9531\n",
      "Epoch 23/300\n",
      "46615/46615 - 4s - loss: 0.1134 - accuracy: 0.9606 - val_loss: 0.1892 - val_accuracy: 0.9436\n",
      "Epoch 24/300\n",
      "46615/46615 - 4s - loss: 0.1067 - accuracy: 0.9627 - val_loss: 0.1965 - val_accuracy: 0.9367\n",
      "Epoch 00024: early stopping\n"
     ]
    }
   ],
   "source": [
    "\n",
    "dnn_history = dnn_model.fit(x_train, y_train,\n",
    "                            batch_size=batch_size,\n",
    "                            steps_per_epoch=num_step,\n",
    "                            epochs=epochs,\n",
    "                            validation_data=(x_test, y_test),\n",
    "                            verbose=2,\n",
    "                            callbacks=callbacks_list)\n"
   ]
  },
  {
   "cell_type": "code",
   "execution_count": 30,
   "metadata": {},
   "outputs": [],
   "source": [
    "best_model = \"./dnn_model-logs-c/basic_model-best-model-c.h5\"\n",
    "dnn_model = load_model(best_model)"
   ]
  },
  {
   "cell_type": "code",
   "execution_count": 31,
   "metadata": {},
   "outputs": [
    {
     "name": "stdout",
     "output_type": "stream",
     "text": [
      "5180/1 - 0s - loss: 0.1333 - accuracy: 0.9554\n"
     ]
    }
   ],
   "source": [
    "loss, acc = dnn_model.evaluate(x_test, y_test, verbose=2)"
   ]
  },
  {
   "cell_type": "code",
   "execution_count": 32,
   "metadata": {},
   "outputs": [
    {
     "name": "stdout",
     "output_type": "stream",
     "text": [
      "[[2.6742596e-16 2.6182884e-22 0.0000000e+00 4.3534753e-29 3.1128627e-32\n",
      "  2.8890711e-13 2.6447868e-13 0.0000000e+00 7.4676749e-19 9.6661341e-20\n",
      "  4.9649730e-18 1.3444293e-10 7.0201059e-26 2.1352809e-15 0.0000000e+00\n",
      "  3.7843865e-36 5.9294054e-12 6.3850134e-09 0.0000000e+00 4.8111582e-23\n",
      "  2.1192737e-27 4.2981870e-14 1.0000000e+00 5.7317811e-35 7.3348992e-18\n",
      "  3.0275638e-21 4.4163652e-23 0.0000000e+00 4.5799712e-14 6.8119714e-31\n",
      "  1.0711831e-15 2.5302130e-36 1.8167999e-37 0.0000000e+00]\n",
      " [4.5121086e-12 2.4879966e-11 6.1873166e-08 3.6868628e-13 5.1515200e-18\n",
      "  8.1422308e-12 1.1754493e-09 6.0455696e-11 1.5658084e-07 2.0069430e-12\n",
      "  3.1428026e-29 5.1238217e-20 9.9999964e-01 1.8796515e-18 6.4120798e-09\n",
      "  2.3135067e-10 3.5999200e-08 1.1856210e-19 6.0825947e-29 9.3996141e-23\n",
      "  8.3536261e-11 8.1573797e-21 1.6696195e-30 3.4040364e-11 3.3936778e-18\n",
      "  1.5122711e-14 7.6768352e-08 1.5680930e-13 2.3876231e-18 8.2343092e-24\n",
      "  5.4914552e-30 4.9378052e-20 1.7311141e-18 5.2052011e-14]\n",
      " [8.8809608e-34 1.3438603e-07 6.7551817e-08 2.9494460e-14 5.2357180e-22\n",
      "  9.8437661e-18 1.1482833e-24 6.6590052e-05 1.4468959e-15 3.3366069e-21\n",
      "  4.1282651e-27 3.3364559e-35 2.7223819e-17 1.6677886e-38 4.0043890e-16\n",
      "  1.5838701e-14 1.1224956e-26 0.0000000e+00 5.4605848e-17 1.8358582e-28\n",
      "  1.4357784e-15 2.3334268e-36 0.0000000e+00 6.5584511e-29 4.3116939e-32\n",
      "  1.3462470e-34 4.6157496e-29 9.9905962e-01 5.2461509e-38 8.1737042e-24\n",
      "  1.0245736e-33 2.3065815e-07 1.4782491e-09 8.7335240e-04]]\n",
      "[22 12 27]\n"
     ]
    }
   ],
   "source": [
    "y_pred = dnn_model.predict(x_test)\n",
    "print(y_pred[:3])\n",
    "y_pred = y_pred.argmax(-1)\n",
    "print(y_pred[:3])"
   ]
  },
  {
   "cell_type": "code",
   "execution_count": 33,
   "metadata": {},
   "outputs": [
    {
     "name": "stdout",
     "output_type": "stream",
     "text": [
      "0.9554054054054054\n"
     ]
    },
    {
     "data": {
      "text/plain": [
       "array([[121,   0,   0, ...,   0,   0,   0],\n",
       "       [  0, 154,   0, ...,   0,   0,   1],\n",
       "       [  0,   0, 147, ...,   0,   0,   5],\n",
       "       ...,\n",
       "       [  0,   3,   0, ..., 146,   1,   0],\n",
       "       [  0,   0,   0, ...,   0, 151,   0],\n",
       "       [  0,   0,   8, ...,   0,   0, 141]])"
      ]
     },
     "execution_count": 33,
     "metadata": {},
     "output_type": "execute_result"
    }
   ],
   "source": [
    "print(accuracy_score(y_test.argmax(-1), y_pred))\n",
    "#print(confusion_matrix(y_test.argmax(-1), y_pred))\n",
    "confusion_matrix(y_test.argmax(-1), y_pred)"
   ]
  },
  {
   "cell_type": "code",
   "execution_count": 34,
   "metadata": {},
   "outputs": [],
   "source": [
    "class_names = np.array([each for each in class_map.keys()])"
   ]
  },
  {
   "cell_type": "code",
   "execution_count": 35,
   "metadata": {},
   "outputs": [
    {
     "data": {
      "image/png": "[encoded data removed]",
      "text/plain": [
       "<Figure size 720x720 with 1 Axes>"
      ]
     },
     "metadata": {
      "needs_background": "light"
     },
     "output_type": "display_data"
    }
   ],
   "source": [
    "import seaborn as sns\n",
    "\n",
    "matrix = confusion_matrix(y_test.argmax(-1), y_pred)\n",
    "\n",
    "plt.figure(figsize=(10, 10))\n",
    "sns.heatmap(matrix, annot=True, cbar=False, cmap=\"Blues\",\n",
    "            xticklabels=class_names,\n",
    "            yticklabels=class_names)\n",
    "plt.ylabel('True Label')\n",
    "plt.xlabel('Predicted Label')\n",
    "plt.title('Confusion Matrix')\n",
    "\n",
    "# Save figure first to prevent black after show figure.\n",
    "plt.savefig('./Confusion Matrix-c.png')\n",
    "\n",
    "plt.show()"
   ]
  },
  {
   "cell_type": "code",
   "execution_count": null,
   "metadata": {},
   "outputs": [],
   "source": []
  }
 ],
 "metadata": {
  "kernelspec": {
   "display_name": "Python 3",
   "language": "python",
   "name": "python3"
  },
  "language_info": {
   "codemirror_mode": {
    "name": "ipython",
    "version": 3
   },
   "file_extension": ".py",
   "mimetype": "text/x-python",
   "name": "python",
   "nbconvert_exporter": "python",
   "pygments_lexer": "ipython3",
   "version": "3.7.3"
  }
 },
 "nbformat": 4,
 "nbformat_minor": 4
}
