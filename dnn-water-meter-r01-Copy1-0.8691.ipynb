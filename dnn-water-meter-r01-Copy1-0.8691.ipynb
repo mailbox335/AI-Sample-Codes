{
 "cells": [
  {
   "cell_type": "code",
   "execution_count": 1,
   "metadata": {},
   "outputs": [
    {
     "name": "stdout",
     "output_type": "stream",
     "text": [
      "[PhysicalDevice(name='/physical_device:GPU:0', device_type='GPU')]\n"
     ]
    }
   ],
   "source": [
    "import numpy as np\n",
    "import pandas as pd\n",
    "import matplotlib.pyplot as plt\n",
    "from tqdm import tqdm\n",
    "#from sklearn import datasets\n",
    "#from sklearn import preprocessing\n",
    "#from sklearn import linear_model\n",
    "from sklearn.model_selection import train_test_split\n",
    "from sklearn.metrics import accuracy_score, confusion_matrix\n",
    "import tensorflow as tf\n",
    "from tensorflow import keras\n",
    "from tensorflow.keras import layers, initializers\n",
    "from tensorflow.keras.utils import plot_model\n",
    "\n",
    "from tensorflow.keras.preprocessing.image import ImageDataGenerator\n",
    "\n",
    "from tensorflow.keras.models import Sequential, Model, load_model\n",
    "from tensorflow.keras.layers import (Input, Dense, Dropout, Activation,\n",
    "                                     BatchNormalization, Flatten,\n",
    "                                     Conv2D, MaxPooling2D,\n",
    "                                     GlobalAveragePooling2D)\n",
    "\n",
    "import os\n",
    "import cv2\n",
    "\n",
    "os.environ[\"CUDA_VISIBLE_DEVICES\"] = \"0\"\n",
    "\n",
    "# 檢查有沒有 GPU\n",
    "#import tensorflow as tf\n",
    "\n",
    "physical_devices = tf.config.experimental.list_physical_devices('GPU')\n",
    "print(physical_devices)\n",
    "\n",
    "assert len(physical_devices) > 0, \"Not enough GPU hardware devices available\"\n",
    "# Not enough GPU hardware devices available\n",
    "# assert len(physical_devices) > 0\n",
    "\n",
    "tf.config.experimental.set_memory_growth(physical_devices[0], True)\n",
    "\n",
    "import tensorflow.keras.backend as K\n",
    "K.clear_session()"
   ]
  },
  {
   "cell_type": "code",
   "execution_count": 2,
   "metadata": {},
   "outputs": [
    {
     "data": {
      "image/png": "[encoded data removed]",
      "text/plain": [
       "<Figure size 432x288 with 1 Axes>"
      ]
     },
     "metadata": {
      "needs_background": "light"
     },
     "output_type": "display_data"
    },
    {
     "data": {
      "text/plain": [
       "(28, 28)"
      ]
     },
     "execution_count": 2,
     "metadata": {},
     "output_type": "execute_result"
    }
   ],
   "source": [
    "image = cv2.imread(\n",
    "    \"/home/jovyan/test1/water_aug/0/0000.bmp\", 0)\n",
    "#    \"/home/jovyan/at083-group23/aia_meter_datasets/0/20190828101256.bmp\", 0)\n",
    "#image = cv2.cvtColor(image, cv2.COLOR_RGB2GRAY)\n",
    "plt.imshow(image, cmap=\"gray\")\n",
    "plt.show()\n",
    "image.shape"
   ]
  },
  {
   "cell_type": "code",
   "execution_count": 3,
   "metadata": {},
   "outputs": [
    {
     "data": {
      "text/plain": [
       "2"
      ]
     },
     "execution_count": 3,
     "metadata": {},
     "output_type": "execute_result"
    }
   ],
   "source": [
    "image.ndim"
   ]
  },
  {
   "cell_type": "code",
   "execution_count": 4,
   "metadata": {},
   "outputs": [
    {
     "data": {
      "text/plain": [
       "dtype('uint8')"
      ]
     },
     "execution_count": 4,
     "metadata": {},
     "output_type": "execute_result"
    }
   ],
   "source": [
    "image.dtype"
   ]
  },
  {
   "cell_type": "code",
   "execution_count": 5,
   "metadata": {},
   "outputs": [],
   "source": [
    "data_path = \"/home/jovyan/test1/water_aug\"\n",
    "#data_path = \"/home/jovyan/at083-group23/aia_meter_datasets\"\n",
    "\n",
    "x_data_list = []\n",
    "y_data_list = []\n",
    "for roots, dirs, files in os.walk(data_path):\n",
    "    for each in files:\n",
    "        if each.find('checkpoint') == -1:\n",
    "            x_data_list.append(os.path.join(roots, each))\n",
    "            y_data_list.append(roots.split(\"/\")[-1])"
   ]
  },
  {
   "cell_type": "code",
   "execution_count": 6,
   "metadata": {},
   "outputs": [],
   "source": [
    "#img_size = 224\n",
    "#img_size = 28"
   ]
  },
  {
   "cell_type": "code",
   "execution_count": 7,
   "metadata": {},
   "outputs": [
    {
     "name": "stdout",
     "output_type": "stream",
     "text": [
      "/home/jovyan/test1/water_aug/7/1555.bmp\n",
      "(28, 28)\n"
     ]
    },
    {
     "data": {
      "image/png": "[encoded data removed]",
      "text/plain": [
       "<Figure size 432x288 with 1 Axes>"
      ]
     },
     "metadata": {
      "needs_background": "light"
     },
     "output_type": "display_data"
    }
   ],
   "source": [
    "print(x_data_list[0])\n",
    "img = cv2.imread(x_data_list[0], 0)\n",
    "#img = cv2.resize(img, (img_size, img_size))\n",
    "print(img.shape)\n",
    "plt.imshow(img, cmap=\"gray\")\n",
    "plt.axis('off')\n",
    "plt.show()"
   ]
  },
  {
   "cell_type": "code",
   "execution_count": 8,
   "metadata": {},
   "outputs": [
    {
     "name": "stdout",
     "output_type": "stream",
     "text": [
      "(28, 28)\n"
     ]
    }
   ],
   "source": [
    "#img = img[..., np.newaxis]\n",
    "print(img.shape)"
   ]
  },
  {
   "cell_type": "code",
   "execution_count": 9,
   "metadata": {},
   "outputs": [],
   "source": [
    "def load_img(data_list):\n",
    "    data_img = []\n",
    "    for each in tqdm(data_list):\n",
    "        img = cv2.imread(each, 0)\n",
    "        #img = cv2.resize(img, (img_size, img_size))\n",
    "        data_img.append(img[..., np.newaxis])\n",
    "        #data_img.append(img)\n",
    "\n",
    "    return np.array(data_img).astype('float32')/255.\n",
    "#    return np.array(data_img).astype('float32')"
   ]
  },
  {
   "cell_type": "code",
   "execution_count": 10,
   "metadata": {},
   "outputs": [
    {
     "name": "stderr",
     "output_type": "stream",
     "text": [
      "100%|██████████| 33240/33240 [00:01<00:00, 31563.59it/s]\n"
     ]
    }
   ],
   "source": [
    "x_data = load_img(x_data_list)"
   ]
  },
  {
   "cell_type": "code",
   "execution_count": 11,
   "metadata": {
    "colab": {
     "base_uri": "https://localhost:8080/",
     "height": 221
    },
    "colab_type": "code",
    "executionInfo": {
     "elapsed": 3980,
     "status": "ok",
     "timestamp": 1563004417153,
     "user": {
      "displayName": "kinna kinna",
      "photoUrl": "",
      "userId": "09336290170720198249"
     },
     "user_tz": -480
    },
    "id": "Q40s0Ia6SOAX",
    "outputId": "cda9ac1e-7442-4b5f-bafd-b4fbc3dc2755"
   },
   "outputs": [
    {
     "data": {
      "image/png": "[encoded data removed]",
      "text/plain": [
       "<Figure size 1152x576 with 2 Axes>"
      ]
     },
     "metadata": {
      "needs_background": "light"
     },
     "output_type": "display_data"
    }
   ],
   "source": [
    "# show image\n",
    "plt.figure(figsize=(16, 8))\n",
    "for i in range(2):\n",
    "    plt.subplot(2, 4, i+1)\n",
    "    plt.imshow(x_data[i][..., 0], cmap='gray')\n",
    "    #plt.imshow(x_data[i][:, :, ::-1])\n",
    "    plt.axis('off')\n",
    "plt.show()"
   ]
  },
  {
   "cell_type": "code",
   "execution_count": 12,
   "metadata": {},
   "outputs": [
    {
     "name": "stdout",
     "output_type": "stream",
     "text": [
      "Index(['2', '6', '3', '0', '1', '5', '9', '8', '4', '7', '3-4', '4-5', '9-0',\n",
      "       '7-8', '0-1', '2-3', '5-6', '8-9', '1-2', '6-7'],\n",
      "      dtype='object')\n",
      "10 + 10 = 20\n"
     ]
    }
   ],
   "source": [
    "y_data_list = pd.DataFrame(y_data_list, columns=['label'])\n",
    "uniques = y_data_list['label'].value_counts().index\n",
    "counts = y_data_list['label'].value_counts().values\n",
    "#print(y_data_list.sample(10))\n",
    "print(uniques)\n",
    "print('10 + 10 =', uniques.size)"
   ]
  },
  {
   "cell_type": "code",
   "execution_count": 13,
   "metadata": {},
   "outputs": [
    {
     "name": "stdout",
     "output_type": "stream",
     "text": [
      "<class 'pandas.core.frame.DataFrame'>\n",
      "RangeIndex: 20 entries, 0 to 19\n",
      "Data columns (total 1 columns):\n",
      "label    20 non-null object\n",
      "dtypes: object(1)\n",
      "memory usage: 288.0+ bytes\n",
      "None\n",
      "   label\n",
      "0      0\n",
      "1    0-1\n",
      "2      1\n",
      "3    1-2\n",
      "4      2\n",
      "5    2-3\n",
      "6      3\n",
      "7    3-4\n",
      "8      4\n",
      "9    4-5\n",
      "10     5\n",
      "11   5-6\n",
      "12     6\n",
      "13   6-7\n",
      "14     7\n"
     ]
    }
   ],
   "source": [
    "a = pd.DataFrame(uniques.sort_values(), columns=['label'])\n",
    "print(a.info())\n",
    "print(a.head(15))\n",
    "\n",
    "a.to_csv('/home/jovyan/at083-group23/mapping2.txt', float_format=None, \n",
    "         columns=['label'], index=True, index_label='idx')"
   ]
  },
  {
   "cell_type": "code",
   "execution_count": 14,
   "metadata": {},
   "outputs": [
    {
     "data": {
      "image/png": "[encoded data removed]",
      "text/plain": [
       "<Figure size 2160x360 with 1 Axes>"
      ]
     },
     "metadata": {
      "needs_background": "light"
     },
     "output_type": "display_data"
    }
   ],
   "source": [
    "plt.figure(figsize=(30, 5))\n",
    "plt.bar(uniques.sort_values(), counts)\n",
    "plt.xticks(fontsize=16)\n",
    "plt.show()"
   ]
  },
  {
   "cell_type": "code",
   "execution_count": 15,
   "metadata": {},
   "outputs": [
    {
     "name": "stdout",
     "output_type": "stream",
     "text": [
      "<class 'pandas.core.frame.DataFrame'>\n",
      "Index: 20 entries, 0 to 9-0\n",
      "Data columns (total 1 columns):\n",
      "label    20 non-null int64\n",
      "dtypes: int64(1)\n",
      "memory usage: 320.0+ bytes\n",
      "None\n",
      "     label\n",
      "idx       \n",
      "0        0\n",
      "0-1      1\n",
      "1        2\n",
      "1-2      3\n",
      "2        4\n",
      "2-3      5\n",
      "3        6\n",
      "3-4      7\n",
      "4        8\n",
      "4-5      9\n",
      "5       10\n",
      "5-6     11\n",
      "6       12\n",
      "6-7     13\n",
      "7       14\n"
     ]
    }
   ],
   "source": [
    "class_path = \"/home/jovyan/at083-group23/\"\n",
    "class_map = pd.read_csv(os.path.join(class_path, 'mapping2.txt'),\n",
    "                        header=0, names=['label', 'idx'], index_col=['idx'], \n",
    "                        usecols=None, dtype=None)\n",
    "print(class_map.info())\n",
    "print(class_map.head(15))\n",
    "class_map = class_map.to_dict()['label']"
   ]
  },
  {
   "cell_type": "code",
   "execution_count": 16,
   "metadata": {},
   "outputs": [
    {
     "data": {
      "text/plain": [
       "{'0': 0,\n",
       " '0-1': 1,\n",
       " '1': 2,\n",
       " '1-2': 3,\n",
       " '2': 4,\n",
       " '2-3': 5,\n",
       " '3': 6,\n",
       " '3-4': 7,\n",
       " '4': 8,\n",
       " '4-5': 9,\n",
       " '5': 10,\n",
       " '5-6': 11,\n",
       " '6': 12,\n",
       " '6-7': 13,\n",
       " '7': 14,\n",
       " '7-8': 15,\n",
       " '8': 16,\n",
       " '8-9': 17,\n",
       " '9': 18,\n",
       " '9-0': 19}"
      ]
     },
     "execution_count": 16,
     "metadata": {},
     "output_type": "execute_result"
    }
   ],
   "source": [
    "class_map"
   ]
  },
  {
   "cell_type": "code",
   "execution_count": 17,
   "metadata": {},
   "outputs": [],
   "source": [
    "y_data = y_data_list['label'].map(class_map).values.copy()\n",
    "\n",
    "x_train, x_test, y_train, y_test = train_test_split(x_data, y_data,\n",
    "                                                    test_size=0.1,\n",
    "                                                    random_state=10,\n",
    "                                                    stratify=y_data)"
   ]
  },
  {
   "cell_type": "code",
   "execution_count": 18,
   "metadata": {},
   "outputs": [
    {
     "name": "stdout",
     "output_type": "stream",
     "text": [
      "x_train shape: (29916, 28, 28, 1)\n",
      "x_test shape: (3324, 28, 28, 1)\n"
     ]
    }
   ],
   "source": [
    "print('x_train shape:', x_train.shape)\n",
    "print('x_test shape:', x_test.shape)"
   ]
  },
  {
   "cell_type": "code",
   "execution_count": 19,
   "metadata": {},
   "outputs": [
    {
     "data": {
      "image/png": "[encoded data removed]",
      "text/plain": [
       "<Figure size 2160x360 with 1 Axes>"
      ]
     },
     "metadata": {
      "needs_background": "light"
     },
     "output_type": "display_data"
    }
   ],
   "source": [
    "uniques, counts = np.unique(y_test, return_counts=True)\n",
    "plt.figure(figsize=(30, 5))\n",
    "plt.bar(uniques, counts)\n",
    "plt.xticks(fontsize=16)\n",
    "plt.show()"
   ]
  },
  {
   "cell_type": "code",
   "execution_count": 20,
   "metadata": {
    "colab": {
     "base_uri": "https://localhost:8080/",
     "height": 188
    },
    "colab_type": "code",
    "executionInfo": {
     "elapsed": 1016,
     "status": "ok",
     "timestamp": 1563000946633,
     "user": {
      "displayName": "kinna kinna",
      "photoUrl": "",
      "userId": "09336290170720198249"
     },
     "user_tz": -480
    },
    "id": "zjl7VQmk_woy",
    "outputId": "d353a3c8-29a9-4c99-86be-b61427de527a"
   },
   "outputs": [
    {
     "data": {
      "text/plain": [
       "array([ 2, 18,  8, 10, 15, 10, 18, 10,  7, 12])"
      ]
     },
     "execution_count": 20,
     "metadata": {},
     "output_type": "execute_result"
    }
   ],
   "source": [
    "y_train[0:10]    # 0:10筆的類別"
   ]
  },
  {
   "cell_type": "code",
   "execution_count": 21,
   "metadata": {
    "colab": {
     "base_uri": "https://localhost:8080/",
     "height": 51
    },
    "colab_type": "code",
    "executionInfo": {
     "elapsed": 1064,
     "status": "ok",
     "timestamp": 1563001029180,
     "user": {
      "displayName": "kinna kinna",
      "photoUrl": "",
      "userId": "09336290170720198249"
     },
     "user_tz": -480
    },
    "id": "eSXBilArX8ih",
    "outputId": "b64ed539-6326-47ec-e676-d571a152d947"
   },
   "outputs": [
    {
     "name": "stdout",
     "output_type": "stream",
     "text": [
      "y_train shape: (29916, 20)\n",
      "y_test shape: (3324, 20)\n"
     ]
    }
   ],
   "source": [
    "# 將訓練資料與測試資料的 label，進行 Onehot encoding 轉換\n",
    "num_classes = len(uniques)\n",
    "\n",
    "y_train = np.eye(num_classes, dtype='float32')[y_train]\n",
    "y_test = np.eye(num_classes, dtype='float32')[y_test]\n",
    "\n",
    "print('y_train shape:', y_train.shape)\n",
    "print('y_test shape:', y_test.shape)"
   ]
  },
  {
   "cell_type": "code",
   "execution_count": 22,
   "metadata": {
    "colab": {
     "base_uri": "https://localhost:8080/",
     "height": 774
    },
    "colab_type": "code",
    "executionInfo": {
     "elapsed": 1085,
     "status": "ok",
     "timestamp": 1563001287037,
     "user": {
      "displayName": "kinna kinna",
      "photoUrl": "",
      "userId": "09336290170720198249"
     },
     "user_tz": -480
    },
    "id": "3cZSnAQjX-M_",
    "outputId": "3fd15f5d-4ffd-4c00-b451-1a4eca25bb87"
   },
   "outputs": [],
   "source": [
    "# Flatten the input data\n",
    "\n",
    "x_train = Flatten()(x_train)\n",
    "x_train = x_train.numpy()\n",
    "x_test = Flatten()(x_test)\n",
    "x_test = x_test.numpy()"
   ]
  },
  {
   "cell_type": "code",
   "execution_count": 23,
   "metadata": {},
   "outputs": [
    {
     "name": "stdout",
     "output_type": "stream",
     "text": [
      "x_train shape: (29916, 784)\n",
      "x_test shape: (3324, 784)\n"
     ]
    }
   ],
   "source": [
    "print('x_train shape:', x_train.shape)\n",
    "print('x_test shape:', x_test.shape)"
   ]
  },
  {
   "cell_type": "code",
   "execution_count": 24,
   "metadata": {
    "colab": {
     "base_uri": "https://localhost:8080/",
     "height": 774
    },
    "colab_type": "code",
    "executionInfo": {
     "elapsed": 1085,
     "status": "ok",
     "timestamp": 1563001287037,
     "user": {
      "displayName": "kinna kinna",
      "photoUrl": "",
      "userId": "09336290170720198249"
     },
     "user_tz": -480
    },
    "id": "3cZSnAQjX-M_",
    "outputId": "3fd15f5d-4ffd-4c00-b451-1a4eca25bb87"
   },
   "outputs": [],
   "source": [
    "# 選擇 Keras 的 API 寫法 -- DNN\n",
    "\n",
    "inputs = Input(shape=x_train.shape[1:])\n",
    "#inputs = Input(shape=(img_size, img_size, 1))\n",
    "\n",
    "# 第一層\n",
    "# 設定ReLU為激活函數。\n",
    "x = Dense(256, activation='relu')(inputs)\n",
    "\n",
    "# 第二層 \n",
    "# 設定ReLU為激活函數。\n",
    "x = Dense(128, activation='relu')(x)\n",
    "\n",
    "# 第三層 \n",
    "# 設定ReLU為激活函數。\n",
    "x = Dense(64, activation='relu')(x)\n",
    "\n",
    "outputs = Dense(num_classes, activation='softmax')(x)\n",
    "\n",
    "\n",
    "dnn_model = Model(inputs=inputs, outputs=outputs)"
   ]
  },
  {
   "cell_type": "code",
   "execution_count": 25,
   "metadata": {},
   "outputs": [
    {
     "name": "stdout",
     "output_type": "stream",
     "text": [
      "Model: \"model\"\n",
      "_________________________________________________________________\n",
      "Layer (type)                 Output Shape              Param #   \n",
      "=================================================================\n",
      "input_1 (InputLayer)         [(None, 784)]             0         \n",
      "_________________________________________________________________\n",
      "dense (Dense)                (None, 256)               200960    \n",
      "_________________________________________________________________\n",
      "dense_1 (Dense)              (None, 128)               32896     \n",
      "_________________________________________________________________\n",
      "dense_2 (Dense)              (None, 64)                8256      \n",
      "_________________________________________________________________\n",
      "dense_3 (Dense)              (None, 20)                1300      \n",
      "=================================================================\n",
      "Total params: 243,412\n",
      "Trainable params: 243,412\n",
      "Non-trainable params: 0\n",
      "_________________________________________________________________\n",
      "None\n"
     ]
    }
   ],
   "source": [
    "print(dnn_model.summary())"
   ]
  },
  {
   "cell_type": "code",
   "execution_count": 26,
   "metadata": {},
   "outputs": [],
   "source": [
    "model_dir = 'dnn_model-logs-w'\n",
    "if not os.path.exists(model_dir):\n",
    "    os.makedirs(model_dir)\n",
    "\n",
    "logfiles = model_dir + '/{}-{}'.format('basic_model', dnn_model.__class__.__name__)\n",
    "model_cbk = keras.callbacks.TensorBoard(log_dir=logfiles,\n",
    "                                        histogram_freq=1)\n",
    "\n",
    "modelfiles = model_dir + '/{}-best-model-w.h5'.format('basic_model')\n",
    "model_mckp = keras.callbacks.ModelCheckpoint(modelfiles,\n",
    "                                             monitor='val_accuracy',\n",
    "                                             save_best_only=True)\n",
    "\n",
    "earlystop = keras.callbacks.EarlyStopping(monitor='val_loss',\n",
    "                                          patience=5,\n",
    "                                          verbose=1)\n",
    "\n",
    "\n",
    "callbacks_list = [model_cbk, model_mckp, earlystop]"
   ]
  },
  {
   "cell_type": "code",
   "execution_count": 27,
   "metadata": {
    "colab": {
     "base_uri": "https://localhost:8080/",
     "height": 106
    },
    "colab_type": "code",
    "executionInfo": {
     "elapsed": 1104,
     "status": "ok",
     "timestamp": 1563001643262,
     "user": {
      "displayName": "kinna kinna",
      "photoUrl": "",
      "userId": "09336290170720198249"
     },
     "user_tz": -480
    },
    "id": "8tie_2BzYAF0",
    "outputId": "77537ab9-7e76-4f34-a804-86484dfb80d8"
   },
   "outputs": [],
   "source": [
    "# 編譯模型\n",
    "# 選用 Adam 為 optimizer\n",
    "learning_rate = 1e-3\n",
    "optimizer = keras.optimizers.Adam(lr=learning_rate)\n",
    "\n",
    "\n",
    "\n",
    "dnn_model.compile(loss='categorical_crossentropy',\n",
    "                  optimizer=optimizer,\n",
    "                  metrics=['accuracy'])"
   ]
  },
  {
   "cell_type": "code",
   "execution_count": 28,
   "metadata": {},
   "outputs": [],
   "source": [
    "\n",
    "batch_size = 32\n",
    "epochs = 300\n",
    "\n",
    "num_step = x_train.shape[0] // batch_size + 1\n"
   ]
  },
  {
   "cell_type": "code",
   "execution_count": 119,
   "metadata": {
    "colab": {
     "base_uri": "https://localhost:8080/",
     "height": 826
    },
    "colab_type": "code",
    "executionInfo": {
     "elapsed": 432193,
     "status": "ok",
     "timestamp": 1563002079497,
     "user": {
      "displayName": "kinna kinna",
      "photoUrl": "",
      "userId": "09336290170720198249"
     },
     "user_tz": -480
    },
    "id": "3-2yHC87YRXh",
    "outputId": "1a8dc1d0-459f-4264-c763-923a6b73364c"
   },
   "outputs": [
    {
     "name": "stdout",
     "output_type": "stream",
     "text": [
      "Train on 29916 samples, validate on 3324 samples\n",
      "Epoch 1/300\n",
      "29916/29916 - 2s - loss: 0.3268 - accuracy: 0.8751 - val_loss: 0.4631 - val_accuracy: 0.8351\n",
      "Epoch 2/300\n",
      "29916/29916 - 2s - loss: 0.3472 - accuracy: 0.8679 - val_loss: 0.3761 - val_accuracy: 0.8691\n",
      "Epoch 3/300\n",
      "29916/29916 - 2s - loss: 0.3428 - accuracy: 0.8722 - val_loss: 0.5612 - val_accuracy: 0.8192\n",
      "Epoch 4/300\n",
      "29916/29916 - 2s - loss: 0.3501 - accuracy: 0.8679 - val_loss: 0.3959 - val_accuracy: 0.8544\n",
      "Epoch 5/300\n",
      "29916/29916 - 2s - loss: 0.3481 - accuracy: 0.8688 - val_loss: 0.4463 - val_accuracy: 0.8357\n",
      "Epoch 6/300\n",
      "29916/29916 - 2s - loss: 0.3334 - accuracy: 0.8732 - val_loss: 0.4373 - val_accuracy: 0.8508\n",
      "Epoch 7/300\n",
      "29916/29916 - 2s - loss: 0.3482 - accuracy: 0.8672 - val_loss: 0.4362 - val_accuracy: 0.8508\n",
      "Epoch 00007: early stopping\n"
     ]
    }
   ],
   "source": [
    "\n",
    "dnn_history = dnn_model.fit(x_train, y_train,\n",
    "                            batch_size=batch_size,\n",
    "                            steps_per_epoch=num_step,\n",
    "                            epochs=epochs,\n",
    "                            validation_data=(x_test, y_test),\n",
    "                            verbose=2,\n",
    "                            callbacks=callbacks_list)\n"
   ]
  },
  {
   "cell_type": "code",
   "execution_count": 120,
   "metadata": {},
   "outputs": [],
   "source": [
    "best_model = \"./dnn_model-logs-w/basic_model-best-model-w.h5\"\n",
    "dnn_model = load_model(best_model)"
   ]
  },
  {
   "cell_type": "code",
   "execution_count": 121,
   "metadata": {},
   "outputs": [
    {
     "name": "stdout",
     "output_type": "stream",
     "text": [
      "3324/1 - 0s - loss: 0.3892 - accuracy: 0.8691\n"
     ]
    }
   ],
   "source": [
    "loss, acc = dnn_model.evaluate(x_test, y_test, verbose=2)"
   ]
  },
  {
   "cell_type": "code",
   "execution_count": 122,
   "metadata": {},
   "outputs": [
    {
     "name": "stdout",
     "output_type": "stream",
     "text": [
      "[[6.9573579e-14 4.5533205e-15 1.7292351e-22 6.2486595e-28 3.6034142e-16\n",
      "  2.8574189e-14 2.2114800e-15 5.0224048e-24 4.2456773e-33 8.2842937e-27\n",
      "  9.9948800e-01 3.2162973e-06 1.9364170e-05 4.9872838e-06 5.9417837e-20\n",
      "  1.9232563e-18 4.9405192e-11 2.4611124e-10 4.8427694e-04 1.9853100e-07]\n",
      " [1.3148575e-03 5.8680837e-07 5.5602611e-10 1.9467258e-07 7.5182006e-02\n",
      "  3.0283736e-08 9.2348939e-01 8.2920687e-06 4.8376048e-33 1.2451877e-06\n",
      "  3.1503328e-06 3.3673009e-10 1.9157042e-07 5.2553547e-12 1.3699646e-18\n",
      "  8.1838923e-20 2.6550615e-24 2.9803399e-10 5.7467384e-14 6.2118524e-08]\n",
      " [1.8439605e-04 2.2460472e-04 1.9903722e-05 7.6322170e-04 3.0410031e-02\n",
      "  3.4892462e-02 9.2790215e-05 4.7642638e-06 1.6189673e-16 2.4987705e-07\n",
      "  2.3511417e-05 1.4731454e-04 4.4067024e-06 7.2119101e-06 5.5768822e-08\n",
      "  1.8364351e-12 5.2985932e-10 2.6441679e-05 5.3838428e-13 9.3319857e-01]]\n",
      "[10  6 19]\n"
     ]
    }
   ],
   "source": [
    "y_pred = dnn_model.predict(x_test)\n",
    "print(y_pred[:3])\n",
    "y_pred = y_pred.argmax(-1)\n",
    "print(y_pred[:3])"
   ]
  },
  {
   "cell_type": "code",
   "execution_count": 123,
   "metadata": {},
   "outputs": [
    {
     "name": "stdout",
     "output_type": "stream",
     "text": [
      "0.8691335740072202\n"
     ]
    },
    {
     "data": {
      "text/plain": [
       "array([[198,   4,   0,   0,   0,   2,   5,   0,   0,   0,   0,   0,   4,\n",
       "          2,   0,   0,   1,   0,   0,   0],\n",
       "       [  5, 105,   0,   0,   0,   0,   0,   2,   0,   3,   0,   0,   0,\n",
       "          5,   1,   0,   0,   3,   0,   0],\n",
       "       [  1,   0, 197,   8,   1,   0,   0,   0,   0,   0,   0,   1,   0,\n",
       "          0,   4,   0,   0,   0,   0,   0],\n",
       "       [  0,   0,   3,  64,   6,   0,   0,   3,   0,   3,   0,   0,   0,\n",
       "          0,   0,   1,   0,   0,   0,   0],\n",
       "       [  0,   0,   4,   5, 190,  16,  16,   0,   0,   1,   1,   0,   1,\n",
       "          0,   0,   0,   0,   1,   3,   2],\n",
       "       [  1,   1,   2,   0,   9,  91,   0,   0,   0,   0,   0,   2,   0,\n",
       "          0,   0,   0,   1,   0,   1,   4],\n",
       "       [  6,   0,   0,   0,   4,   0, 198,  11,   0,   0,   1,   0,   0,\n",
       "          0,   0,   0,   0,   0,   0,   0],\n",
       "       [  0,   1,   0,   2,   1,   0,   4, 145,   0,   5,   0,   1,   0,\n",
       "          0,   1,   0,   0,   0,   0,   0],\n",
       "       [  0,   0,   0,   0,   0,   1,   0,   1, 195,   0,   0,   0,   1,\n",
       "          0,   0,   1,   0,   1,   0,   0],\n",
       "       [  0,   3,   0,   2,   1,   0,   0,   4,   0, 147,   0,   1,   1,\n",
       "          0,   1,   0,   0,   0,   0,   0],\n",
       "       [  0,   0,   0,   0,   1,   3,   0,   0,   0,   0, 157,   3,   3,\n",
       "          7,   1,   0,   0,   3,  23,   7],\n",
       "       [  0,   0,   3,   0,   1,   0,   0,   1,   0,   0,   3,  86,   2,\n",
       "          1,   0,   0,   0,   0,   0,   7],\n",
       "       [  3,   0,   0,   0,   2,   1,   0,   0,   0,   0,   1,  21, 176,\n",
       "          0,   0,   0,   3,   3,  13,   1],\n",
       "       [  0,   1,   0,   0,   0,   0,   0,   0,   0,   0,   7,   0,   1,\n",
       "         69,   0,   0,   0,   0,   1,   1],\n",
       "       [  0,   0,   3,   0,   0,   0,   0,   0,   0,   0,   0,   0,   0,\n",
       "          0, 197,   0,   0,   0,   0,   0],\n",
       "       [  0,   0,   0,   3,   0,   0,   0,   0,   0,   0,   0,   1,   0,\n",
       "          0,   0, 130,   0,   1,   1,   0],\n",
       "       [  0,   0,   0,   0,   0,   0,   0,   0,   0,   0,   0,   0,   0,\n",
       "          0,   0,   0, 196,   0,   4,   0],\n",
       "       [  0,   0,   0,   0,   1,   1,   0,   0,   0,   1,   1,   0,   3,\n",
       "          0,   0,   0,   0,  89,   0,   0],\n",
       "       [  3,   0,   1,   0,   1,   0,   0,   0,   0,   0,   7,   0,   2,\n",
       "          3,   0,   0,  47,   0, 140,   0],\n",
       "       [  1,   1,   5,   0,   3,   2,   0,   0,   0,   0,   4,   2,   3,\n",
       "          5,   0,   0,   0,   3,   0, 119]])"
      ]
     },
     "execution_count": 123,
     "metadata": {},
     "output_type": "execute_result"
    }
   ],
   "source": [
    "print(accuracy_score(y_test.argmax(-1), y_pred))\n",
    "#print(confusion_matrix(y_test.argmax(-1), y_pred))\n",
    "confusion_matrix(y_test.argmax(-1), y_pred)"
   ]
  },
  {
   "cell_type": "code",
   "execution_count": 124,
   "metadata": {},
   "outputs": [],
   "source": [
    "class_names = np.array([each for each in class_map.keys()])"
   ]
  },
  {
   "cell_type": "code",
   "execution_count": 125,
   "metadata": {},
   "outputs": [
    {
     "data": {
      "image/png": "[encoded data removed]",
      "text/plain": [
       "<Figure size 720x720 with 1 Axes>"
      ]
     },
     "metadata": {
      "needs_background": "light"
     },
     "output_type": "display_data"
    }
   ],
   "source": [
    "import seaborn as sns\n",
    "\n",
    "matrix = confusion_matrix(y_test.argmax(-1), y_pred)\n",
    "\n",
    "plt.figure(figsize=(10, 10))\n",
    "sns.heatmap(matrix, annot=True, cbar=False, cmap=\"Blues\",\n",
    "            xticklabels=class_names,\n",
    "            yticklabels=class_names)\n",
    "plt.ylabel('True Label')\n",
    "plt.xlabel('Predicted Label')\n",
    "plt.title('Confusion Matrix')\n",
    "\n",
    "# Save figure first to prevent black after show figure.\n",
    "plt.savefig('./Confusion Matrix-w.png')\n",
    "\n",
    "plt.show()"
   ]
  },
  {
   "cell_type": "code",
   "execution_count": null,
   "metadata": {},
   "outputs": [],
   "source": []
  }
 ],
 "metadata": {
  "kernelspec": {
   "display_name": "Python 3",
   "language": "python",
   "name": "python3"
  },
  "language_info": {
   "codemirror_mode": {
    "name": "ipython",
    "version": 3
   },
   "file_extension": ".py",
   "mimetype": "text/x-python",
   "name": "python",
   "nbconvert_exporter": "python",
   "pygments_lexer": "ipython3",
   "version": "3.7.3"
  }
 },
 "nbformat": 4,
 "nbformat_minor": 4
}
